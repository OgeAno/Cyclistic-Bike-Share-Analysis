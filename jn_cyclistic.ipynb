{
 "cells": [
  {
   "cell_type": "markdown",
   "id": "bd11a2b3",
   "metadata": {},
   "source": [
    "### Data Wrangling using R"
   ]
  },
  {
   "cell_type": "markdown",
   "id": "97246cf1",
   "metadata": {},
   "source": [
    "#### Step 1: Loading the packages to be used. N/B: I already have them installed"
   ]
  },
  {
   "cell_type": "code",
   "execution_count": 1,
   "id": "068359b1",
   "metadata": {
    "tags": [
     "remove-output"
    ]
   },
   "outputs": [
    {
     "name": "stderr",
     "output_type": "stream",
     "text": [
      "── \u001b[1mAttaching packages\u001b[22m ─────────────────────────────────────────────────────────────────────────────── tidyverse 1.3.1 ──\n",
      "\n",
      "\u001b[32m✔\u001b[39m \u001b[34mggplot2\u001b[39m 3.3.6     \u001b[32m✔\u001b[39m \u001b[34mpurrr  \u001b[39m 0.3.4\n",
      "\u001b[32m✔\u001b[39m \u001b[34mtibble \u001b[39m 3.1.7     \u001b[32m✔\u001b[39m \u001b[34mdplyr  \u001b[39m 1.0.9\n",
      "\u001b[32m✔\u001b[39m \u001b[34mtidyr  \u001b[39m 1.2.0     \u001b[32m✔\u001b[39m \u001b[34mstringr\u001b[39m 1.4.0\n",
      "\u001b[32m✔\u001b[39m \u001b[34mreadr  \u001b[39m 2.1.2     \u001b[32m✔\u001b[39m \u001b[34mforcats\u001b[39m 0.5.1\n",
      "\n",
      "── \u001b[1mConflicts\u001b[22m ────────────────────────────────────────────────────────────────────────────────── tidyverse_conflicts() ──\n",
      "\u001b[31m✖\u001b[39m \u001b[34mdplyr\u001b[39m::\u001b[32mfilter()\u001b[39m masks \u001b[34mstats\u001b[39m::filter()\n",
      "\u001b[31m✖\u001b[39m \u001b[34mdplyr\u001b[39m::\u001b[32mlag()\u001b[39m    masks \u001b[34mstats\u001b[39m::lag()\n",
      "\n",
      "\n",
      "Attaching package: 'data.table'\n",
      "\n",
      "\n",
      "The following objects are masked from 'package:dplyr':\n",
      "\n",
      "    between, first, last\n",
      "\n",
      "\n",
      "The following object is masked from 'package:purrr':\n",
      "\n",
      "    transpose\n",
      "\n",
      "\n",
      "\n",
      "Attaching package: 'lubridate'\n",
      "\n",
      "\n",
      "The following objects are masked from 'package:data.table':\n",
      "\n",
      "    hour, isoweek, mday, minute, month, quarter, second, wday, week,\n",
      "    yday, year\n",
      "\n",
      "\n",
      "The following objects are masked from 'package:base':\n",
      "\n",
      "    date, intersect, setdiff, union\n",
      "\n",
      "\n"
     ]
    }
   ],
   "source": [
    "library(tidyverse)  \n",
    "library(dplyr)  \n",
    "library(data.table)  \n",
    "library(lubridate)\n",
    "library(readr)"
   ]
  },
  {
   "cell_type": "markdown",
   "id": "5e24d858",
   "metadata": {},
   "source": [
    "#### Step 2: Importing and merging the CSV files to be used for my analysis\n",
    "I have 12 CSV files to combine for my analysis (each file for Cyclistic's bike ride details for each month of the year). I already previewed the files in Excel and confirmed that all 12 files have the same columns.I could import them one by one, but I choose to import all 12 files at once. This is to make my code scalable (where there may be much more datasets to combine. ie. 30 or more).\n",
    "\n",
    "To do this, I create a folder (Cyclistic_csv_files) containing all the CSV files I want to use for my analysis, and then set my working directory to the folder, and use the list.files() function to list all files in the folder with the extension \".csv\".  \n",
    "Then I use the lapply() function to loop over that list (containing all my files) and read each file with the read_csv() function."
   ]
  },
  {
   "cell_type": "code",
   "execution_count": 2,
   "id": "84031575",
   "metadata": {
    "tags": [
     "remove-results"
    ]
   },
   "outputs": [
    {
     "name": "stderr",
     "output_type": "stream",
     "text": [
      "\u001b[1mRows: \u001b[22m\u001b[34m84776\u001b[39m \u001b[1mColumns: \u001b[22m\u001b[34m13\u001b[39m\n",
      "\u001b[36m──\u001b[39m \u001b[1mColumn specification\u001b[22m \u001b[36m────────────────────────────────────────────────────────────────────────────────────────────────\u001b[39m\n",
      "\u001b[1mDelimiter:\u001b[22m \",\"\n",
      "\u001b[31mchr\u001b[39m  (5): ride_id, rideable_type, start_station_name, end_station_name, memb...\n",
      "\u001b[32mdbl\u001b[39m  (6): start_station_id, end_station_id, start_lat, start_lng, end_lat, e...\n",
      "\u001b[34mdttm\u001b[39m (2): started_at, ended_at\n",
      "\n",
      "\u001b[36mℹ\u001b[39m Use `spec()` to retrieve the full column specification for this data.\n",
      "\u001b[36mℹ\u001b[39m Specify the column types or set `show_col_types = FALSE` to quiet this message.\n",
      "\u001b[1mRows: \u001b[22m\u001b[34m622361\u001b[39m \u001b[1mColumns: \u001b[22m\u001b[34m13\u001b[39m\n",
      "\u001b[36m──\u001b[39m \u001b[1mColumn specification\u001b[22m \u001b[36m────────────────────────────────────────────────────────────────────────────────────────────────\u001b[39m\n",
      "\u001b[1mDelimiter:\u001b[22m \",\"\n",
      "\u001b[31mchr\u001b[39m  (5): ride_id, rideable_type, start_station_name, end_station_name, memb...\n",
      "\u001b[32mdbl\u001b[39m  (6): start_station_id, end_station_id, start_lat, start_lng, end_lat, e...\n",
      "\u001b[34mdttm\u001b[39m (2): started_at, ended_at\n",
      "\n",
      "\u001b[36mℹ\u001b[39m Use `spec()` to retrieve the full column specification for this data.\n",
      "\u001b[36mℹ\u001b[39m Specify the column types or set `show_col_types = FALSE` to quiet this message.\n",
      "\u001b[1mRows: \u001b[22m\u001b[34m131573\u001b[39m \u001b[1mColumns: \u001b[22m\u001b[34m13\u001b[39m\n",
      "\u001b[36m──\u001b[39m \u001b[1mColumn specification\u001b[22m \u001b[36m────────────────────────────────────────────────────────────────────────────────────────────────\u001b[39m\n",
      "\u001b[1mDelimiter:\u001b[22m \",\"\n",
      "\u001b[31mchr\u001b[39m  (7): ride_id, rideable_type, start_station_name, start_station_id, end_...\n",
      "\u001b[32mdbl\u001b[39m  (4): start_lat, start_lng, end_lat, end_lng\n",
      "\u001b[34mdttm\u001b[39m (2): started_at, ended_at\n",
      "\n",
      "\u001b[36mℹ\u001b[39m Use `spec()` to retrieve the full column specification for this data.\n",
      "\u001b[36mℹ\u001b[39m Specify the column types or set `show_col_types = FALSE` to quiet this message.\n",
      "\u001b[1mRows: \u001b[22m\u001b[34m49622\u001b[39m \u001b[1mColumns: \u001b[22m\u001b[34m13\u001b[39m\n",
      "\u001b[36m──\u001b[39m \u001b[1mColumn specification\u001b[22m \u001b[36m────────────────────────────────────────────────────────────────────────────────────────────────\u001b[39m\n",
      "\u001b[1mDelimiter:\u001b[22m \",\"\n",
      "\u001b[31mchr\u001b[39m  (7): ride_id, rideable_type, start_station_name, start_station_id, end_...\n",
      "\u001b[32mdbl\u001b[39m  (4): start_lat, start_lng, end_lat, end_lng\n",
      "\u001b[34mdttm\u001b[39m (2): started_at, ended_at\n",
      "\n",
      "\u001b[36mℹ\u001b[39m Use `spec()` to retrieve the full column specification for this data.\n",
      "\u001b[36mℹ\u001b[39m Specify the column types or set `show_col_types = FALSE` to quiet this message.\n",
      "\u001b[1mRows: \u001b[22m\u001b[34m96834\u001b[39m \u001b[1mColumns: \u001b[22m\u001b[34m13\u001b[39m\n",
      "\u001b[36m──\u001b[39m \u001b[1mColumn specification\u001b[22m \u001b[36m────────────────────────────────────────────────────────────────────────────────────────────────\u001b[39m\n",
      "\u001b[1mDelimiter:\u001b[22m \",\"\n",
      "\u001b[31mchr\u001b[39m  (7): ride_id, rideable_type, start_station_name, start_station_id, end_...\n",
      "\u001b[32mdbl\u001b[39m  (4): start_lat, start_lng, end_lat, end_lng\n",
      "\u001b[34mdttm\u001b[39m (2): started_at, ended_at\n",
      "\n",
      "\u001b[36mℹ\u001b[39m Use `spec()` to retrieve the full column specification for this data.\n",
      "\u001b[36mℹ\u001b[39m Specify the column types or set `show_col_types = FALSE` to quiet this message.\n",
      "\u001b[1mRows: \u001b[22m\u001b[34m551480\u001b[39m \u001b[1mColumns: \u001b[22m\u001b[34m13\u001b[39m\n",
      "\u001b[36m──\u001b[39m \u001b[1mColumn specification\u001b[22m \u001b[36m────────────────────────────────────────────────────────────────────────────────────────────────\u001b[39m\n",
      "\u001b[1mDelimiter:\u001b[22m \",\"\n",
      "\u001b[31mchr\u001b[39m  (5): ride_id, rideable_type, start_station_name, end_station_name, memb...\n",
      "\u001b[32mdbl\u001b[39m  (6): start_station_id, end_station_id, start_lat, start_lng, end_lat, e...\n",
      "\u001b[34mdttm\u001b[39m (2): started_at, ended_at\n",
      "\n",
      "\u001b[36mℹ\u001b[39m Use `spec()` to retrieve the full column specification for this data.\n",
      "\u001b[36mℹ\u001b[39m Specify the column types or set `show_col_types = FALSE` to quiet this message.\n",
      "\u001b[1mRows: \u001b[22m\u001b[34m343005\u001b[39m \u001b[1mColumns: \u001b[22m\u001b[34m13\u001b[39m\n",
      "\u001b[36m──\u001b[39m \u001b[1mColumn specification\u001b[22m \u001b[36m────────────────────────────────────────────────────────────────────────────────────────────────\u001b[39m\n",
      "\u001b[1mDelimiter:\u001b[22m \",\"\n",
      "\u001b[31mchr\u001b[39m  (5): ride_id, rideable_type, start_station_name, end_station_name, memb...\n",
      "\u001b[32mdbl\u001b[39m  (6): start_station_id, end_station_id, start_lat, start_lng, end_lat, e...\n",
      "\u001b[34mdttm\u001b[39m (2): started_at, ended_at\n",
      "\n",
      "\u001b[36mℹ\u001b[39m Use `spec()` to retrieve the full column specification for this data.\n",
      "\u001b[36mℹ\u001b[39m Specify the column types or set `show_col_types = FALSE` to quiet this message.\n",
      "\u001b[1mRows: \u001b[22m\u001b[34m228496\u001b[39m \u001b[1mColumns: \u001b[22m\u001b[34m13\u001b[39m\n",
      "\u001b[36m──\u001b[39m \u001b[1mColumn specification\u001b[22m \u001b[36m────────────────────────────────────────────────────────────────────────────────────────────────\u001b[39m\n",
      "\u001b[1mDelimiter:\u001b[22m \",\"\n",
      "\u001b[31mchr\u001b[39m  (7): ride_id, rideable_type, start_station_name, start_station_id, end_...\n",
      "\u001b[32mdbl\u001b[39m  (4): start_lat, start_lng, end_lat, end_lng\n",
      "\u001b[34mdttm\u001b[39m (2): started_at, ended_at\n",
      "\n",
      "\u001b[36mℹ\u001b[39m Use `spec()` to retrieve the full column specification for this data.\n",
      "\u001b[36mℹ\u001b[39m Specify the column types or set `show_col_types = FALSE` to quiet this message.\n",
      "\u001b[1mRows: \u001b[22m\u001b[34m200274\u001b[39m \u001b[1mColumns: \u001b[22m\u001b[34m13\u001b[39m\n",
      "\u001b[36m──\u001b[39m \u001b[1mColumn specification\u001b[22m \u001b[36m────────────────────────────────────────────────────────────────────────────────────────────────\u001b[39m\n",
      "\u001b[1mDelimiter:\u001b[22m \",\"\n",
      "\u001b[31mchr\u001b[39m  (5): ride_id, rideable_type, start_station_name, end_station_name, memb...\n",
      "\u001b[32mdbl\u001b[39m  (6): start_station_id, end_station_id, start_lat, start_lng, end_lat, e...\n",
      "\u001b[34mdttm\u001b[39m (2): started_at, ended_at\n",
      "\n",
      "\u001b[36mℹ\u001b[39m Use `spec()` to retrieve the full column specification for this data.\n",
      "\u001b[36mℹ\u001b[39m Specify the column types or set `show_col_types = FALSE` to quiet this message.\n",
      "\u001b[1mRows: \u001b[22m\u001b[34m259716\u001b[39m \u001b[1mColumns: \u001b[22m\u001b[34m13\u001b[39m\n",
      "\u001b[36m──\u001b[39m \u001b[1mColumn specification\u001b[22m \u001b[36m────────────────────────────────────────────────────────────────────────────────────────────────\u001b[39m\n",
      "\u001b[1mDelimiter:\u001b[22m \",\"\n",
      "\u001b[31mchr\u001b[39m  (5): ride_id, rideable_type, start_station_name, end_station_name, memb...\n",
      "\u001b[32mdbl\u001b[39m  (6): start_station_id, end_station_id, start_lat, start_lng, end_lat, e...\n",
      "\u001b[34mdttm\u001b[39m (2): started_at, ended_at\n",
      "\n",
      "\u001b[36mℹ\u001b[39m Use `spec()` to retrieve the full column specification for this data.\n",
      "\u001b[36mℹ\u001b[39m Specify the column types or set `show_col_types = FALSE` to quiet this message.\n",
      "\u001b[1mRows: \u001b[22m\u001b[34m388653\u001b[39m \u001b[1mColumns: \u001b[22m\u001b[34m13\u001b[39m\n",
      "\u001b[36m──\u001b[39m \u001b[1mColumn specification\u001b[22m \u001b[36m────────────────────────────────────────────────────────────────────────────────────────────────\u001b[39m\n",
      "\u001b[1mDelimiter:\u001b[22m \",\"\n",
      "\u001b[31mchr\u001b[39m  (5): ride_id, rideable_type, start_station_name, end_station_name, memb...\n",
      "\u001b[32mdbl\u001b[39m  (6): start_station_id, end_station_id, start_lat, start_lng, end_lat, e...\n",
      "\u001b[34mdttm\u001b[39m (2): started_at, ended_at\n",
      "\n",
      "\u001b[36mℹ\u001b[39m Use `spec()` to retrieve the full column specification for this data.\n",
      "\u001b[36mℹ\u001b[39m Specify the column types or set `show_col_types = FALSE` to quiet this message.\n",
      "\u001b[1mRows: \u001b[22m\u001b[34m532958\u001b[39m \u001b[1mColumns: \u001b[22m\u001b[34m13\u001b[39m\n",
      "\u001b[36m──\u001b[39m \u001b[1mColumn specification\u001b[22m \u001b[36m────────────────────────────────────────────────────────────────────────────────────────────────\u001b[39m\n",
      "\u001b[1mDelimiter:\u001b[22m \",\"\n",
      "\u001b[31mchr\u001b[39m  (5): ride_id, rideable_type, start_station_name, end_station_name, memb...\n",
      "\u001b[32mdbl\u001b[39m  (6): start_station_id, end_station_id, start_lat, start_lng, end_lat, e...\n",
      "\u001b[34mdttm\u001b[39m (2): started_at, ended_at\n",
      "\n",
      "\u001b[36mℹ\u001b[39m Use `spec()` to retrieve the full column specification for this data.\n",
      "\u001b[36mℹ\u001b[39m Specify the column types or set `show_col_types = FALSE` to quiet this message.\n"
     ]
    }
   ],
   "source": [
    "setwd(\"C:\\\\Users\\\\ETIABA CHAMBER'S\\\\Documents\\\\Data_Analytics\\\\My_portfolio\\\\Cyclistic_csv_files\")\n",
    "myfiles <- list.files(pattern ='*.csv')\n",
    "df.list <- lapply(myfiles, read_csv)"
   ]
  },
  {
   "cell_type": "code",
   "execution_count": 3,
   "id": "9851b534",
   "metadata": {},
   "outputs": [
    {
     "data": {
      "text/html": [
       "'Dec.2020-divvy-tripdata.csv'"
      ],
      "text/latex": [
       "'Dec.2020-divvy-tripdata.csv'"
      ],
      "text/markdown": [
       "'Dec.2020-divvy-tripdata.csv'"
      ],
      "text/plain": [
       "[1] \"Dec.2020-divvy-tripdata.csv\""
      ]
     },
     "metadata": {},
     "output_type": "display_data"
    },
    {
     "data": {
      "text/html": [
       "'Jul.2020-divvy-tripdata.csv'"
      ],
      "text/latex": [
       "'Jul.2020-divvy-tripdata.csv'"
      ],
      "text/markdown": [
       "'Jul.2020-divvy-tripdata.csv'"
      ],
      "text/plain": [
       "[1] \"Jul.2020-divvy-tripdata.csv\""
      ]
     },
     "metadata": {},
     "output_type": "display_data"
    },
    {
     "data": {
      "text/html": [
       "'Sep.2020-divvy-tripdata.csv'"
      ],
      "text/latex": [
       "'Sep.2020-divvy-tripdata.csv'"
      ],
      "text/markdown": [
       "'Sep.2020-divvy-tripdata.csv'"
      ],
      "text/plain": [
       "[1] \"Sep.2020-divvy-tripdata.csv\""
      ]
     },
     "metadata": {},
     "output_type": "display_data"
    }
   ],
   "source": [
    "#random check to see that the right CSV files were imported\n",
    "head(myfiles[3])\n",
    "head(myfiles[6])\n",
    "head(myfiles[12])"
   ]
  },
  {
   "cell_type": "code",
   "execution_count": 4,
   "id": "5f422a9e",
   "metadata": {
    "scrolled": true
   },
   "outputs": [
    {
     "data": {
      "text/html": [
       "<table class=\"dataframe\">\n",
       "<caption>A data.frame: 6 × 13</caption>\n",
       "<thead>\n",
       "\t<tr><th scope=col>ride_id</th><th scope=col>rideable_type</th><th scope=col>started_at</th><th scope=col>ended_at</th><th scope=col>start_station_name</th><th scope=col>start_station_id</th><th scope=col>end_station_name</th><th scope=col>end_station_id</th><th scope=col>start_lat</th><th scope=col>start_lng</th><th scope=col>end_lat</th><th scope=col>end_lng</th><th scope=col>member_casual</th></tr>\n",
       "\t<tr><th scope=col>&lt;chr&gt;</th><th scope=col>&lt;chr&gt;</th><th scope=col>&lt;chr&gt;</th><th scope=col>&lt;chr&gt;</th><th scope=col>&lt;chr&gt;</th><th scope=col>&lt;int&gt;</th><th scope=col>&lt;chr&gt;</th><th scope=col>&lt;chr&gt;</th><th scope=col>&lt;dbl&gt;</th><th scope=col>&lt;dbl&gt;</th><th scope=col>&lt;dbl&gt;</th><th scope=col>&lt;dbl&gt;</th><th scope=col>&lt;chr&gt;</th></tr>\n",
       "</thead>\n",
       "<tbody>\n",
       "\t<tr><td>70B6A9A437D4C30D</td><td>classic_bike </td><td>2020-12-27 12:44:29</td><td>2020-12-27 12:55:06</td><td>Aberdeen St &amp; Jackson Blvd</td><td>13157</td><td>Desplaines St &amp; Kinzie St</td><td>TA1306000003</td><td>41.87773</td><td>-87.65479</td><td>41.88872</td><td>-87.64445</td><td>member</td></tr>\n",
       "\t<tr><td>158A465D4E74C54A</td><td>electric_bike</td><td>2020-12-18 17:37:15</td><td>2020-12-18 17:44:19</td><td>                          </td><td>   NA</td><td>                         </td><td>            </td><td>41.93000</td><td>-87.70000</td><td>41.91000</td><td>-87.70000</td><td>member</td></tr>\n",
       "\t<tr><td>5262016E0F1F2F9A</td><td>electric_bike</td><td>2020-12-15 15:04:33</td><td>2020-12-15 15:11:28</td><td>                          </td><td>   NA</td><td>                         </td><td>            </td><td>41.91000</td><td>-87.69000</td><td>41.93000</td><td>-87.70000</td><td>member</td></tr>\n",
       "\t<tr><td>BE119628E44F871E</td><td>electric_bike</td><td>2020-12-15 15:54:18</td><td>2020-12-15 16:00:11</td><td>                          </td><td>   NA</td><td>                         </td><td>            </td><td>41.92000</td><td>-87.70000</td><td>41.91000</td><td>-87.70000</td><td>member</td></tr>\n",
       "\t<tr><td>69AF78D57854E110</td><td>electric_bike</td><td>2020-12-22 12:08:17</td><td>2020-12-22 12:10:59</td><td>                          </td><td>   NA</td><td>                         </td><td>            </td><td>41.80000</td><td>-87.59000</td><td>41.80000</td><td>-87.59000</td><td>member</td></tr>\n",
       "\t<tr><td>C1DECC4AB488831C</td><td>electric_bike</td><td>2020-12-22 13:26:37</td><td>2020-12-22 13:34:50</td><td>                          </td><td>   NA</td><td>                         </td><td>            </td><td>41.80000</td><td>-87.59000</td><td>41.78000</td><td>-87.60000</td><td>member</td></tr>\n",
       "</tbody>\n",
       "</table>\n"
      ],
      "text/latex": [
       "A data.frame: 6 × 13\n",
       "\\begin{tabular}{lllllllllllll}\n",
       " ride\\_id & rideable\\_type & started\\_at & ended\\_at & start\\_station\\_name & start\\_station\\_id & end\\_station\\_name & end\\_station\\_id & start\\_lat & start\\_lng & end\\_lat & end\\_lng & member\\_casual\\\\\n",
       " <chr> & <chr> & <chr> & <chr> & <chr> & <int> & <chr> & <chr> & <dbl> & <dbl> & <dbl> & <dbl> & <chr>\\\\\n",
       "\\hline\n",
       "\t 70B6A9A437D4C30D & classic\\_bike  & 2020-12-27 12:44:29 & 2020-12-27 12:55:06 & Aberdeen St \\& Jackson Blvd & 13157 & Desplaines St \\& Kinzie St & TA1306000003 & 41.87773 & -87.65479 & 41.88872 & -87.64445 & member\\\\\n",
       "\t 158A465D4E74C54A & electric\\_bike & 2020-12-18 17:37:15 & 2020-12-18 17:44:19 &                            &    NA &                           &              & 41.93000 & -87.70000 & 41.91000 & -87.70000 & member\\\\\n",
       "\t 5262016E0F1F2F9A & electric\\_bike & 2020-12-15 15:04:33 & 2020-12-15 15:11:28 &                            &    NA &                           &              & 41.91000 & -87.69000 & 41.93000 & -87.70000 & member\\\\\n",
       "\t BE119628E44F871E & electric\\_bike & 2020-12-15 15:54:18 & 2020-12-15 16:00:11 &                            &    NA &                           &              & 41.92000 & -87.70000 & 41.91000 & -87.70000 & member\\\\\n",
       "\t 69AF78D57854E110 & electric\\_bike & 2020-12-22 12:08:17 & 2020-12-22 12:10:59 &                            &    NA &                           &              & 41.80000 & -87.59000 & 41.80000 & -87.59000 & member\\\\\n",
       "\t C1DECC4AB488831C & electric\\_bike & 2020-12-22 13:26:37 & 2020-12-22 13:34:50 &                            &    NA &                           &              & 41.80000 & -87.59000 & 41.78000 & -87.60000 & member\\\\\n",
       "\\end{tabular}\n"
      ],
      "text/markdown": [
       "\n",
       "A data.frame: 6 × 13\n",
       "\n",
       "| ride_id &lt;chr&gt; | rideable_type &lt;chr&gt; | started_at &lt;chr&gt; | ended_at &lt;chr&gt; | start_station_name &lt;chr&gt; | start_station_id &lt;int&gt; | end_station_name &lt;chr&gt; | end_station_id &lt;chr&gt; | start_lat &lt;dbl&gt; | start_lng &lt;dbl&gt; | end_lat &lt;dbl&gt; | end_lng &lt;dbl&gt; | member_casual &lt;chr&gt; |\n",
       "|---|---|---|---|---|---|---|---|---|---|---|---|---|\n",
       "| 70B6A9A437D4C30D | classic_bike  | 2020-12-27 12:44:29 | 2020-12-27 12:55:06 | Aberdeen St &amp; Jackson Blvd | 13157 | Desplaines St &amp; Kinzie St | TA1306000003 | 41.87773 | -87.65479 | 41.88872 | -87.64445 | member |\n",
       "| 158A465D4E74C54A | electric_bike | 2020-12-18 17:37:15 | 2020-12-18 17:44:19 | <!----> |    NA | <!----> | <!----> | 41.93000 | -87.70000 | 41.91000 | -87.70000 | member |\n",
       "| 5262016E0F1F2F9A | electric_bike | 2020-12-15 15:04:33 | 2020-12-15 15:11:28 | <!----> |    NA | <!----> | <!----> | 41.91000 | -87.69000 | 41.93000 | -87.70000 | member |\n",
       "| BE119628E44F871E | electric_bike | 2020-12-15 15:54:18 | 2020-12-15 16:00:11 | <!----> |    NA | <!----> | <!----> | 41.92000 | -87.70000 | 41.91000 | -87.70000 | member |\n",
       "| 69AF78D57854E110 | electric_bike | 2020-12-22 12:08:17 | 2020-12-22 12:10:59 | <!----> |    NA | <!----> | <!----> | 41.80000 | -87.59000 | 41.80000 | -87.59000 | member |\n",
       "| C1DECC4AB488831C | electric_bike | 2020-12-22 13:26:37 | 2020-12-22 13:34:50 | <!----> |    NA | <!----> | <!----> | 41.80000 | -87.59000 | 41.78000 | -87.60000 | member |\n",
       "\n"
      ],
      "text/plain": [
       "  ride_id          rideable_type started_at          ended_at           \n",
       "1 70B6A9A437D4C30D classic_bike  2020-12-27 12:44:29 2020-12-27 12:55:06\n",
       "2 158A465D4E74C54A electric_bike 2020-12-18 17:37:15 2020-12-18 17:44:19\n",
       "3 5262016E0F1F2F9A electric_bike 2020-12-15 15:04:33 2020-12-15 15:11:28\n",
       "4 BE119628E44F871E electric_bike 2020-12-15 15:54:18 2020-12-15 16:00:11\n",
       "5 69AF78D57854E110 electric_bike 2020-12-22 12:08:17 2020-12-22 12:10:59\n",
       "6 C1DECC4AB488831C electric_bike 2020-12-22 13:26:37 2020-12-22 13:34:50\n",
       "  start_station_name         start_station_id end_station_name         \n",
       "1 Aberdeen St & Jackson Blvd 13157            Desplaines St & Kinzie St\n",
       "2                               NA                                     \n",
       "3                               NA                                     \n",
       "4                               NA                                     \n",
       "5                               NA                                     \n",
       "6                               NA                                     \n",
       "  end_station_id start_lat start_lng end_lat  end_lng   member_casual\n",
       "1 TA1306000003   41.87773  -87.65479 41.88872 -87.64445 member       \n",
       "2                41.93000  -87.70000 41.91000 -87.70000 member       \n",
       "3                41.91000  -87.69000 41.93000 -87.70000 member       \n",
       "4                41.92000  -87.70000 41.91000 -87.70000 member       \n",
       "5                41.80000  -87.59000 41.80000 -87.59000 member       \n",
       "6                41.80000  -87.59000 41.78000 -87.60000 member       "
      ]
     },
     "metadata": {},
     "output_type": "display_data"
    },
    {
     "data": {
      "text/html": [
       "<table class=\"dataframe\">\n",
       "<caption>A data.frame: 6 × 13</caption>\n",
       "<thead>\n",
       "\t<tr><th scope=col>ride_id</th><th scope=col>rideable_type</th><th scope=col>started_at</th><th scope=col>ended_at</th><th scope=col>start_station_name</th><th scope=col>start_station_id</th><th scope=col>end_station_name</th><th scope=col>end_station_id</th><th scope=col>start_lat</th><th scope=col>start_lng</th><th scope=col>end_lat</th><th scope=col>end_lng</th><th scope=col>member_casual</th></tr>\n",
       "\t<tr><th scope=col>&lt;chr&gt;</th><th scope=col>&lt;chr&gt;</th><th scope=col>&lt;chr&gt;</th><th scope=col>&lt;chr&gt;</th><th scope=col>&lt;chr&gt;</th><th scope=col>&lt;int&gt;</th><th scope=col>&lt;chr&gt;</th><th scope=col>&lt;int&gt;</th><th scope=col>&lt;dbl&gt;</th><th scope=col>&lt;dbl&gt;</th><th scope=col>&lt;dbl&gt;</th><th scope=col>&lt;dbl&gt;</th><th scope=col>&lt;chr&gt;</th></tr>\n",
       "</thead>\n",
       "<tbody>\n",
       "\t<tr><td>762198876D69004D</td><td>docked_bike</td><td>2020-07-09 15:22:02</td><td>2020-07-09 15:25:52</td><td><span style=white-space:pre-wrap>Ritchie Ct &amp; Banks St        </span></td><td>180</td><td>Wells St &amp; Evergreen Ave </td><td>291</td><td>41.90687</td><td>-87.62622</td><td>41.90672</td><td>-87.63483</td><td>member</td></tr>\n",
       "\t<tr><td>BEC9C9FBA0D4CF1B</td><td>docked_bike</td><td>2020-07-24 23:56:30</td><td>2020-07-25 00:20:17</td><td><span style=white-space:pre-wrap>Halsted St &amp; Roscoe St       </span></td><td>299</td><td><span style=white-space:pre-wrap>Broadway &amp; Ridge Ave     </span></td><td>461</td><td>41.94367</td><td>-87.64895</td><td>41.98404</td><td>-87.66027</td><td>member</td></tr>\n",
       "\t<tr><td>D2FD8EA432C77EC1</td><td>docked_bike</td><td>2020-07-08 19:49:07</td><td>2020-07-08 19:56:22</td><td>Lake Shore Dr &amp; Diversey Pkwy</td><td>329</td><td>Clark St &amp; Wellington Ave</td><td>156</td><td>41.93259</td><td>-87.63643</td><td>41.93650</td><td>-87.64754</td><td>casual</td></tr>\n",
       "\t<tr><td>54AE594E20B35881</td><td>docked_bike</td><td>2020-07-17 19:06:42</td><td>2020-07-17 19:27:38</td><td><span style=white-space:pre-wrap>LaSalle St &amp; Illinois St     </span></td><td>181</td><td><span style=white-space:pre-wrap>Clark St &amp; Armitage Ave  </span></td><td> 94</td><td>41.89076</td><td>-87.63170</td><td>41.91831</td><td>-87.63628</td><td>casual</td></tr>\n",
       "\t<tr><td>54025FDC7440B56F</td><td>docked_bike</td><td>2020-07-04 10:39:57</td><td>2020-07-04 10:45:05</td><td><span style=white-space:pre-wrap>Lake Shore Dr &amp; North Blvd   </span></td><td>268</td><td><span style=white-space:pre-wrap>Clark St &amp; Schiller St   </span></td><td>301</td><td>41.91172</td><td>-87.62680</td><td>41.90799</td><td>-87.63150</td><td>member</td></tr>\n",
       "\t<tr><td>65636B619E24257F</td><td>docked_bike</td><td>2020-07-28 16:33:03</td><td>2020-07-28 16:49:10</td><td><span style=white-space:pre-wrap>Fairbanks St &amp; Superior St   </span></td><td>635</td><td><span style=white-space:pre-wrap>Wells St &amp; Concord Ln    </span></td><td>289</td><td>41.89575</td><td>-87.62010</td><td>41.91213</td><td>-87.63466</td><td>casual</td></tr>\n",
       "</tbody>\n",
       "</table>\n"
      ],
      "text/latex": [
       "A data.frame: 6 × 13\n",
       "\\begin{tabular}{lllllllllllll}\n",
       " ride\\_id & rideable\\_type & started\\_at & ended\\_at & start\\_station\\_name & start\\_station\\_id & end\\_station\\_name & end\\_station\\_id & start\\_lat & start\\_lng & end\\_lat & end\\_lng & member\\_casual\\\\\n",
       " <chr> & <chr> & <chr> & <chr> & <chr> & <int> & <chr> & <int> & <dbl> & <dbl> & <dbl> & <dbl> & <chr>\\\\\n",
       "\\hline\n",
       "\t 762198876D69004D & docked\\_bike & 2020-07-09 15:22:02 & 2020-07-09 15:25:52 & Ritchie Ct \\& Banks St         & 180 & Wells St \\& Evergreen Ave  & 291 & 41.90687 & -87.62622 & 41.90672 & -87.63483 & member\\\\\n",
       "\t BEC9C9FBA0D4CF1B & docked\\_bike & 2020-07-24 23:56:30 & 2020-07-25 00:20:17 & Halsted St \\& Roscoe St        & 299 & Broadway \\& Ridge Ave      & 461 & 41.94367 & -87.64895 & 41.98404 & -87.66027 & member\\\\\n",
       "\t D2FD8EA432C77EC1 & docked\\_bike & 2020-07-08 19:49:07 & 2020-07-08 19:56:22 & Lake Shore Dr \\& Diversey Pkwy & 329 & Clark St \\& Wellington Ave & 156 & 41.93259 & -87.63643 & 41.93650 & -87.64754 & casual\\\\\n",
       "\t 54AE594E20B35881 & docked\\_bike & 2020-07-17 19:06:42 & 2020-07-17 19:27:38 & LaSalle St \\& Illinois St      & 181 & Clark St \\& Armitage Ave   &  94 & 41.89076 & -87.63170 & 41.91831 & -87.63628 & casual\\\\\n",
       "\t 54025FDC7440B56F & docked\\_bike & 2020-07-04 10:39:57 & 2020-07-04 10:45:05 & Lake Shore Dr \\& North Blvd    & 268 & Clark St \\& Schiller St    & 301 & 41.91172 & -87.62680 & 41.90799 & -87.63150 & member\\\\\n",
       "\t 65636B619E24257F & docked\\_bike & 2020-07-28 16:33:03 & 2020-07-28 16:49:10 & Fairbanks St \\& Superior St    & 635 & Wells St \\& Concord Ln     & 289 & 41.89575 & -87.62010 & 41.91213 & -87.63466 & casual\\\\\n",
       "\\end{tabular}\n"
      ],
      "text/markdown": [
       "\n",
       "A data.frame: 6 × 13\n",
       "\n",
       "| ride_id &lt;chr&gt; | rideable_type &lt;chr&gt; | started_at &lt;chr&gt; | ended_at &lt;chr&gt; | start_station_name &lt;chr&gt; | start_station_id &lt;int&gt; | end_station_name &lt;chr&gt; | end_station_id &lt;int&gt; | start_lat &lt;dbl&gt; | start_lng &lt;dbl&gt; | end_lat &lt;dbl&gt; | end_lng &lt;dbl&gt; | member_casual &lt;chr&gt; |\n",
       "|---|---|---|---|---|---|---|---|---|---|---|---|---|\n",
       "| 762198876D69004D | docked_bike | 2020-07-09 15:22:02 | 2020-07-09 15:25:52 | Ritchie Ct &amp; Banks St         | 180 | Wells St &amp; Evergreen Ave  | 291 | 41.90687 | -87.62622 | 41.90672 | -87.63483 | member |\n",
       "| BEC9C9FBA0D4CF1B | docked_bike | 2020-07-24 23:56:30 | 2020-07-25 00:20:17 | Halsted St &amp; Roscoe St        | 299 | Broadway &amp; Ridge Ave      | 461 | 41.94367 | -87.64895 | 41.98404 | -87.66027 | member |\n",
       "| D2FD8EA432C77EC1 | docked_bike | 2020-07-08 19:49:07 | 2020-07-08 19:56:22 | Lake Shore Dr &amp; Diversey Pkwy | 329 | Clark St &amp; Wellington Ave | 156 | 41.93259 | -87.63643 | 41.93650 | -87.64754 | casual |\n",
       "| 54AE594E20B35881 | docked_bike | 2020-07-17 19:06:42 | 2020-07-17 19:27:38 | LaSalle St &amp; Illinois St      | 181 | Clark St &amp; Armitage Ave   |  94 | 41.89076 | -87.63170 | 41.91831 | -87.63628 | casual |\n",
       "| 54025FDC7440B56F | docked_bike | 2020-07-04 10:39:57 | 2020-07-04 10:45:05 | Lake Shore Dr &amp; North Blvd    | 268 | Clark St &amp; Schiller St    | 301 | 41.91172 | -87.62680 | 41.90799 | -87.63150 | member |\n",
       "| 65636B619E24257F | docked_bike | 2020-07-28 16:33:03 | 2020-07-28 16:49:10 | Fairbanks St &amp; Superior St    | 635 | Wells St &amp; Concord Ln     | 289 | 41.89575 | -87.62010 | 41.91213 | -87.63466 | casual |\n",
       "\n"
      ],
      "text/plain": [
       "  ride_id          rideable_type started_at          ended_at           \n",
       "1 762198876D69004D docked_bike   2020-07-09 15:22:02 2020-07-09 15:25:52\n",
       "2 BEC9C9FBA0D4CF1B docked_bike   2020-07-24 23:56:30 2020-07-25 00:20:17\n",
       "3 D2FD8EA432C77EC1 docked_bike   2020-07-08 19:49:07 2020-07-08 19:56:22\n",
       "4 54AE594E20B35881 docked_bike   2020-07-17 19:06:42 2020-07-17 19:27:38\n",
       "5 54025FDC7440B56F docked_bike   2020-07-04 10:39:57 2020-07-04 10:45:05\n",
       "6 65636B619E24257F docked_bike   2020-07-28 16:33:03 2020-07-28 16:49:10\n",
       "  start_station_name            start_station_id end_station_name         \n",
       "1 Ritchie Ct & Banks St         180              Wells St & Evergreen Ave \n",
       "2 Halsted St & Roscoe St        299              Broadway & Ridge Ave     \n",
       "3 Lake Shore Dr & Diversey Pkwy 329              Clark St & Wellington Ave\n",
       "4 LaSalle St & Illinois St      181              Clark St & Armitage Ave  \n",
       "5 Lake Shore Dr & North Blvd    268              Clark St & Schiller St   \n",
       "6 Fairbanks St & Superior St    635              Wells St & Concord Ln    \n",
       "  end_station_id start_lat start_lng end_lat  end_lng   member_casual\n",
       "1 291            41.90687  -87.62622 41.90672 -87.63483 member       \n",
       "2 461            41.94367  -87.64895 41.98404 -87.66027 member       \n",
       "3 156            41.93259  -87.63643 41.93650 -87.64754 casual       \n",
       "4  94            41.89076  -87.63170 41.91831 -87.63628 casual       \n",
       "5 301            41.91172  -87.62680 41.90799 -87.63150 member       \n",
       "6 289            41.89575  -87.62010 41.91213 -87.63466 casual       "
      ]
     },
     "metadata": {},
     "output_type": "display_data"
    },
    {
     "data": {
      "text/html": [
       "<table class=\"dataframe\">\n",
       "<caption>A data.frame: 6 × 13</caption>\n",
       "<thead>\n",
       "\t<tr><th scope=col>ride_id</th><th scope=col>rideable_type</th><th scope=col>started_at</th><th scope=col>ended_at</th><th scope=col>start_station_name</th><th scope=col>start_station_id</th><th scope=col>end_station_name</th><th scope=col>end_station_id</th><th scope=col>start_lat</th><th scope=col>start_lng</th><th scope=col>end_lat</th><th scope=col>end_lng</th><th scope=col>member_casual</th></tr>\n",
       "\t<tr><th scope=col>&lt;chr&gt;</th><th scope=col>&lt;chr&gt;</th><th scope=col>&lt;chr&gt;</th><th scope=col>&lt;chr&gt;</th><th scope=col>&lt;chr&gt;</th><th scope=col>&lt;int&gt;</th><th scope=col>&lt;chr&gt;</th><th scope=col>&lt;int&gt;</th><th scope=col>&lt;dbl&gt;</th><th scope=col>&lt;dbl&gt;</th><th scope=col>&lt;dbl&gt;</th><th scope=col>&lt;dbl&gt;</th><th scope=col>&lt;chr&gt;</th></tr>\n",
       "</thead>\n",
       "<tbody>\n",
       "\t<tr><td>2B22BD5F95FB2629</td><td>electric_bike</td><td>2020-09-17 14:27:11</td><td>2020-09-17 14:44:24</td><td><span style=white-space:pre-wrap>Michigan Ave &amp; Lake St        </span></td><td> 52</td><td><span style=white-space:pre-wrap>Green St &amp; Randolph St    </span></td><td>112</td><td>41.88669</td><td>-87.62356</td><td>41.88357</td><td>-87.64873</td><td>casual</td></tr>\n",
       "\t<tr><td>A7FB70B4AFC6CAF2</td><td>electric_bike</td><td>2020-09-17 15:07:31</td><td>2020-09-17 15:07:45</td><td><span style=white-space:pre-wrap>W Oakdale Ave &amp; N Broadway    </span></td><td> NA</td><td>W Oakdale Ave &amp; N Broadway</td><td> NA</td><td>41.94000</td><td>-87.64000</td><td>41.94000</td><td>-87.64000</td><td>casual</td></tr>\n",
       "\t<tr><td>86057FA01BAC778E</td><td>electric_bike</td><td>2020-09-17 15:09:04</td><td>2020-09-17 15:09:35</td><td><span style=white-space:pre-wrap>W Oakdale Ave &amp; N Broadway    </span></td><td> NA</td><td>W Oakdale Ave &amp; N Broadway</td><td> NA</td><td>41.94000</td><td>-87.64000</td><td>41.94000</td><td>-87.64000</td><td>casual</td></tr>\n",
       "\t<tr><td>57F6DC9A153DB98C</td><td>electric_bike</td><td>2020-09-17 18:10:46</td><td>2020-09-17 18:35:49</td><td>Ashland Ave &amp; Belle Plaine Ave</td><td>246</td><td><span style=white-space:pre-wrap>Montrose Harbor           </span></td><td>249</td><td>41.95606</td><td>-87.66892</td><td>41.96398</td><td>-87.63822</td><td>casual</td></tr>\n",
       "\t<tr><td>B9C4712F78C1AE68</td><td>electric_bike</td><td>2020-09-17 15:16:13</td><td>2020-09-17 15:52:55</td><td><span style=white-space:pre-wrap>Fairbanks Ct &amp; Grand Ave      </span></td><td> 24</td><td><span style=white-space:pre-wrap>Fairbanks Ct &amp; Grand Ave  </span></td><td> 24</td><td>41.89186</td><td>-87.62101</td><td>41.89135</td><td>-87.62032</td><td>casual</td></tr>\n",
       "\t<tr><td>378BBCE1E444EB80</td><td>electric_bike</td><td>2020-09-17 18:37:04</td><td>2020-09-17 19:23:28</td><td><span style=white-space:pre-wrap>Clark St &amp; Armitage Ave       </span></td><td> 94</td><td><span style=white-space:pre-wrap>                          </span></td><td> NA</td><td>41.91826</td><td>-87.63636</td><td>41.88000</td><td>-87.62000</td><td>casual</td></tr>\n",
       "</tbody>\n",
       "</table>\n"
      ],
      "text/latex": [
       "A data.frame: 6 × 13\n",
       "\\begin{tabular}{lllllllllllll}\n",
       " ride\\_id & rideable\\_type & started\\_at & ended\\_at & start\\_station\\_name & start\\_station\\_id & end\\_station\\_name & end\\_station\\_id & start\\_lat & start\\_lng & end\\_lat & end\\_lng & member\\_casual\\\\\n",
       " <chr> & <chr> & <chr> & <chr> & <chr> & <int> & <chr> & <int> & <dbl> & <dbl> & <dbl> & <dbl> & <chr>\\\\\n",
       "\\hline\n",
       "\t 2B22BD5F95FB2629 & electric\\_bike & 2020-09-17 14:27:11 & 2020-09-17 14:44:24 & Michigan Ave \\& Lake St         &  52 & Green St \\& Randolph St     & 112 & 41.88669 & -87.62356 & 41.88357 & -87.64873 & casual\\\\\n",
       "\t A7FB70B4AFC6CAF2 & electric\\_bike & 2020-09-17 15:07:31 & 2020-09-17 15:07:45 & W Oakdale Ave \\& N Broadway     &  NA & W Oakdale Ave \\& N Broadway &  NA & 41.94000 & -87.64000 & 41.94000 & -87.64000 & casual\\\\\n",
       "\t 86057FA01BAC778E & electric\\_bike & 2020-09-17 15:09:04 & 2020-09-17 15:09:35 & W Oakdale Ave \\& N Broadway     &  NA & W Oakdale Ave \\& N Broadway &  NA & 41.94000 & -87.64000 & 41.94000 & -87.64000 & casual\\\\\n",
       "\t 57F6DC9A153DB98C & electric\\_bike & 2020-09-17 18:10:46 & 2020-09-17 18:35:49 & Ashland Ave \\& Belle Plaine Ave & 246 & Montrose Harbor            & 249 & 41.95606 & -87.66892 & 41.96398 & -87.63822 & casual\\\\\n",
       "\t B9C4712F78C1AE68 & electric\\_bike & 2020-09-17 15:16:13 & 2020-09-17 15:52:55 & Fairbanks Ct \\& Grand Ave       &  24 & Fairbanks Ct \\& Grand Ave   &  24 & 41.89186 & -87.62101 & 41.89135 & -87.62032 & casual\\\\\n",
       "\t 378BBCE1E444EB80 & electric\\_bike & 2020-09-17 18:37:04 & 2020-09-17 19:23:28 & Clark St \\& Armitage Ave        &  94 &                            &  NA & 41.91826 & -87.63636 & 41.88000 & -87.62000 & casual\\\\\n",
       "\\end{tabular}\n"
      ],
      "text/markdown": [
       "\n",
       "A data.frame: 6 × 13\n",
       "\n",
       "| ride_id &lt;chr&gt; | rideable_type &lt;chr&gt; | started_at &lt;chr&gt; | ended_at &lt;chr&gt; | start_station_name &lt;chr&gt; | start_station_id &lt;int&gt; | end_station_name &lt;chr&gt; | end_station_id &lt;int&gt; | start_lat &lt;dbl&gt; | start_lng &lt;dbl&gt; | end_lat &lt;dbl&gt; | end_lng &lt;dbl&gt; | member_casual &lt;chr&gt; |\n",
       "|---|---|---|---|---|---|---|---|---|---|---|---|---|\n",
       "| 2B22BD5F95FB2629 | electric_bike | 2020-09-17 14:27:11 | 2020-09-17 14:44:24 | Michigan Ave &amp; Lake St         |  52 | Green St &amp; Randolph St     | 112 | 41.88669 | -87.62356 | 41.88357 | -87.64873 | casual |\n",
       "| A7FB70B4AFC6CAF2 | electric_bike | 2020-09-17 15:07:31 | 2020-09-17 15:07:45 | W Oakdale Ave &amp; N Broadway     |  NA | W Oakdale Ave &amp; N Broadway |  NA | 41.94000 | -87.64000 | 41.94000 | -87.64000 | casual |\n",
       "| 86057FA01BAC778E | electric_bike | 2020-09-17 15:09:04 | 2020-09-17 15:09:35 | W Oakdale Ave &amp; N Broadway     |  NA | W Oakdale Ave &amp; N Broadway |  NA | 41.94000 | -87.64000 | 41.94000 | -87.64000 | casual |\n",
       "| 57F6DC9A153DB98C | electric_bike | 2020-09-17 18:10:46 | 2020-09-17 18:35:49 | Ashland Ave &amp; Belle Plaine Ave | 246 | Montrose Harbor            | 249 | 41.95606 | -87.66892 | 41.96398 | -87.63822 | casual |\n",
       "| B9C4712F78C1AE68 | electric_bike | 2020-09-17 15:16:13 | 2020-09-17 15:52:55 | Fairbanks Ct &amp; Grand Ave       |  24 | Fairbanks Ct &amp; Grand Ave   |  24 | 41.89186 | -87.62101 | 41.89135 | -87.62032 | casual |\n",
       "| 378BBCE1E444EB80 | electric_bike | 2020-09-17 18:37:04 | 2020-09-17 19:23:28 | Clark St &amp; Armitage Ave        |  94 | <!----> |  NA | 41.91826 | -87.63636 | 41.88000 | -87.62000 | casual |\n",
       "\n"
      ],
      "text/plain": [
       "  ride_id          rideable_type started_at          ended_at           \n",
       "1 2B22BD5F95FB2629 electric_bike 2020-09-17 14:27:11 2020-09-17 14:44:24\n",
       "2 A7FB70B4AFC6CAF2 electric_bike 2020-09-17 15:07:31 2020-09-17 15:07:45\n",
       "3 86057FA01BAC778E electric_bike 2020-09-17 15:09:04 2020-09-17 15:09:35\n",
       "4 57F6DC9A153DB98C electric_bike 2020-09-17 18:10:46 2020-09-17 18:35:49\n",
       "5 B9C4712F78C1AE68 electric_bike 2020-09-17 15:16:13 2020-09-17 15:52:55\n",
       "6 378BBCE1E444EB80 electric_bike 2020-09-17 18:37:04 2020-09-17 19:23:28\n",
       "  start_station_name             start_station_id end_station_name          \n",
       "1 Michigan Ave & Lake St          52              Green St & Randolph St    \n",
       "2 W Oakdale Ave & N Broadway      NA              W Oakdale Ave & N Broadway\n",
       "3 W Oakdale Ave & N Broadway      NA              W Oakdale Ave & N Broadway\n",
       "4 Ashland Ave & Belle Plaine Ave 246              Montrose Harbor           \n",
       "5 Fairbanks Ct & Grand Ave        24              Fairbanks Ct & Grand Ave  \n",
       "6 Clark St & Armitage Ave         94                                        \n",
       "  end_station_id start_lat start_lng end_lat  end_lng   member_casual\n",
       "1 112            41.88669  -87.62356 41.88357 -87.64873 casual       \n",
       "2  NA            41.94000  -87.64000 41.94000 -87.64000 casual       \n",
       "3  NA            41.94000  -87.64000 41.94000 -87.64000 casual       \n",
       "4 249            41.95606  -87.66892 41.96398 -87.63822 casual       \n",
       "5  24            41.89186  -87.62101 41.89135 -87.62032 casual       \n",
       "6  NA            41.91826  -87.63636 41.88000 -87.62000 casual       "
      ]
     },
     "metadata": {},
     "output_type": "display_data"
    }
   ],
   "source": [
    "#random check to view the tibbles of some of my imported datasets\n",
    "read.csv(myfiles[3], nrows = 6)\n",
    "read.csv(myfiles[6], nrows = 6)\n",
    "read.csv(myfiles[12], nrows = 6)"
   ]
  },
  {
   "cell_type": "markdown",
   "id": "e79c4e7f",
   "metadata": {},
   "source": [
    "Now that I have confirmed that the right CSV files were imported, its time for me to merge the data sets together into one. I have already previewed the files in Excel and confirmed that all 12 CSV files have the same number of columns and same column names. So I'll use the rbindlist() function from data.table to combine the datasets together by binding them into one dataframe, df (since all the datasets in my list have the same column number and names)."
   ]
  },
  {
   "cell_type": "code",
   "execution_count": 5,
   "id": "cb8e74a0",
   "metadata": {},
   "outputs": [],
   "source": [
    "df <- rbindlist(df.list)"
   ]
  },
  {
   "cell_type": "markdown",
   "id": "bb4664b1",
   "metadata": {},
   "source": [
    "Then I use the str() function to get a summary of my new dataframe df. "
   ]
  },
  {
   "cell_type": "code",
   "execution_count": 6,
   "id": "2824c368",
   "metadata": {
    "tags": [
     "remove-output"
    ]
   },
   "outputs": [
    {
     "name": "stdout",
     "output_type": "stream",
     "text": [
      "Classes 'data.table' and 'data.frame':\t3489748 obs. of  13 variables:\n",
      " $ ride_id           : chr  \"A847FADBBC638E45\" \"5405B80E996FF60D\" \"5DD24A79A4E006F4\" \"2A59BBDF5CDBA725\" ...\n",
      " $ rideable_type     : chr  \"docked_bike\" \"docked_bike\" \"docked_bike\" \"docked_bike\" ...\n",
      " $ started_at        : POSIXct, format: \"2020-04-26 17:45:14\" \"2020-04-17 17:08:54\" ...\n",
      " $ ended_at          : POSIXct, format: \"2020-04-26 18:12:03\" \"2020-04-17 17:17:03\" ...\n",
      " $ start_station_name: chr  \"Eckhart Park\" \"Drake Ave & Fullerton Ave\" \"McClurg Ct & Erie St\" \"California Ave & Division St\" ...\n",
      " $ start_station_id  : chr  \"86\" \"503\" \"142\" \"216\" ...\n",
      " $ end_station_name  : chr  \"Lincoln Ave & Diversey Pkwy\" \"Kosciuszko Park\" \"Indiana Ave & Roosevelt Rd\" \"Wood St & Augusta Blvd\" ...\n",
      " $ end_station_id    : chr  \"152\" \"499\" \"255\" \"657\" ...\n",
      " $ start_lat         : num  41.9 41.9 41.9 41.9 41.9 ...\n",
      " $ start_lng         : num  -87.7 -87.7 -87.6 -87.7 -87.6 ...\n",
      " $ end_lat           : num  41.9 41.9 41.9 41.9 42 ...\n",
      " $ end_lng           : num  -87.7 -87.7 -87.6 -87.7 -87.7 ...\n",
      " $ member_casual     : chr  \"member\" \"member\" \"member\" \"member\" ...\n",
      " - attr(*, \".internal.selfref\")=<externalptr> \n"
     ]
    }
   ],
   "source": [
    "str(df)"
   ]
  },
  {
   "cell_type": "markdown",
   "id": "7964234a",
   "metadata": {},
   "source": [
    "It has a total of 3,489,748 rows and 13 columns. "
   ]
  },
  {
   "cell_type": "markdown",
   "id": "0f9a4e50",
   "metadata": {},
   "source": [
    "#### Step 3: Cleaning the data\n",
    "Now that I have successfully imported and combined my datasets into one dataframe, the next step is for me to clean the data.  \n",
    "I will begin by taking care of any duplicate entries. Having studied a sample of the dataset in Excel, the ride_id should be unique for each entry; so I will check to confirm if there are duplicates in my dataframe.   \n",
    "\n",
    "##### ~Dropping duplicate ride_ids"
   ]
  },
  {
   "cell_type": "code",
   "execution_count": 7,
   "id": "bb5e558b",
   "metadata": {},
   "outputs": [
    {
     "data": {
      "text/html": [
       "209"
      ],
      "text/latex": [
       "209"
      ],
      "text/markdown": [
       "209"
      ],
      "text/plain": [
       "[1] 209"
      ]
     },
     "metadata": {},
     "output_type": "display_data"
    }
   ],
   "source": [
    "#returns the number of duplicate ride_ids (if any)\n",
    "sum(duplicated(df$ride_id))"
   ]
  },
  {
   "cell_type": "markdown",
   "id": "20ed315c",
   "metadata": {},
   "source": [
    "I can see that there are 209 duplicate entries for ride_id. So I will use the code below to create a new dataframe df1 with the duplicates dropped."
   ]
  },
  {
   "cell_type": "code",
   "execution_count": 8,
   "id": "2542a3fd",
   "metadata": {},
   "outputs": [],
   "source": [
    "#creating df1 with only the distinct ride_id entries\n",
    "df1 <- distinct(df, ride_id, .keep_all = TRUE)"
   ]
  },
  {
   "cell_type": "markdown",
   "id": "e11c5833",
   "metadata": {},
   "source": [
    "I can now use the str() and head() functions to view a summary of df1."
   ]
  },
  {
   "cell_type": "code",
   "execution_count": 9,
   "id": "70163fbf",
   "metadata": {},
   "outputs": [
    {
     "name": "stdout",
     "output_type": "stream",
     "text": [
      "Classes 'data.table' and 'data.frame':\t3489539 obs. of  13 variables:\n",
      " $ ride_id           : chr  \"A847FADBBC638E45\" \"5405B80E996FF60D\" \"5DD24A79A4E006F4\" \"2A59BBDF5CDBA725\" ...\n",
      " $ rideable_type     : chr  \"docked_bike\" \"docked_bike\" \"docked_bike\" \"docked_bike\" ...\n",
      " $ started_at        : POSIXct, format: \"2020-04-26 17:45:14\" \"2020-04-17 17:08:54\" ...\n",
      " $ ended_at          : POSIXct, format: \"2020-04-26 18:12:03\" \"2020-04-17 17:17:03\" ...\n",
      " $ start_station_name: chr  \"Eckhart Park\" \"Drake Ave & Fullerton Ave\" \"McClurg Ct & Erie St\" \"California Ave & Division St\" ...\n",
      " $ start_station_id  : chr  \"86\" \"503\" \"142\" \"216\" ...\n",
      " $ end_station_name  : chr  \"Lincoln Ave & Diversey Pkwy\" \"Kosciuszko Park\" \"Indiana Ave & Roosevelt Rd\" \"Wood St & Augusta Blvd\" ...\n",
      " $ end_station_id    : chr  \"152\" \"499\" \"255\" \"657\" ...\n",
      " $ start_lat         : num  41.9 41.9 41.9 41.9 41.9 ...\n",
      " $ start_lng         : num  -87.7 -87.7 -87.6 -87.7 -87.6 ...\n",
      " $ end_lat           : num  41.9 41.9 41.9 41.9 42 ...\n",
      " $ end_lng           : num  -87.7 -87.7 -87.6 -87.7 -87.7 ...\n",
      " $ member_casual     : chr  \"member\" \"member\" \"member\" \"member\" ...\n"
     ]
    },
    {
     "data": {
      "text/html": [
       "<table class=\"dataframe\">\n",
       "<caption>A data.table: 6 × 13</caption>\n",
       "<thead>\n",
       "\t<tr><th scope=col>ride_id</th><th scope=col>rideable_type</th><th scope=col>started_at</th><th scope=col>ended_at</th><th scope=col>start_station_name</th><th scope=col>start_station_id</th><th scope=col>end_station_name</th><th scope=col>end_station_id</th><th scope=col>start_lat</th><th scope=col>start_lng</th><th scope=col>end_lat</th><th scope=col>end_lng</th><th scope=col>member_casual</th></tr>\n",
       "\t<tr><th scope=col>&lt;chr&gt;</th><th scope=col>&lt;chr&gt;</th><th scope=col>&lt;dttm&gt;</th><th scope=col>&lt;dttm&gt;</th><th scope=col>&lt;chr&gt;</th><th scope=col>&lt;chr&gt;</th><th scope=col>&lt;chr&gt;</th><th scope=col>&lt;chr&gt;</th><th scope=col>&lt;dbl&gt;</th><th scope=col>&lt;dbl&gt;</th><th scope=col>&lt;dbl&gt;</th><th scope=col>&lt;dbl&gt;</th><th scope=col>&lt;chr&gt;</th></tr>\n",
       "</thead>\n",
       "<tbody>\n",
       "\t<tr><td>A847FADBBC638E45</td><td>docked_bike</td><td>2020-04-26 17:45:14</td><td>2020-04-26 18:12:03</td><td><span style=white-space:pre-wrap>Eckhart Park                       </span></td><td>86 </td><td>Lincoln Ave &amp; Diversey Pkwy</td><td>152</td><td>41.8964</td><td>-87.6610</td><td>41.9322</td><td>-87.6586</td><td>member</td></tr>\n",
       "\t<tr><td>5405B80E996FF60D</td><td>docked_bike</td><td>2020-04-17 17:08:54</td><td>2020-04-17 17:17:03</td><td><span style=white-space:pre-wrap>Drake Ave &amp; Fullerton Ave          </span></td><td>503</td><td><span style=white-space:pre-wrap>Kosciuszko Park            </span></td><td>499</td><td>41.9244</td><td>-87.7154</td><td>41.9306</td><td>-87.7238</td><td>member</td></tr>\n",
       "\t<tr><td>5DD24A79A4E006F4</td><td>docked_bike</td><td>2020-04-01 17:54:13</td><td>2020-04-01 18:08:36</td><td><span style=white-space:pre-wrap>McClurg Ct &amp; Erie St               </span></td><td>142</td><td>Indiana Ave &amp; Roosevelt Rd </td><td>255</td><td>41.8945</td><td>-87.6179</td><td>41.8679</td><td>-87.6230</td><td>member</td></tr>\n",
       "\t<tr><td>2A59BBDF5CDBA725</td><td>docked_bike</td><td>2020-04-07 12:50:19</td><td>2020-04-07 13:02:31</td><td><span style=white-space:pre-wrap>California Ave &amp; Division St       </span></td><td>216</td><td><span style=white-space:pre-wrap>Wood St &amp; Augusta Blvd     </span></td><td>657</td><td>41.9030</td><td>-87.6975</td><td>41.8992</td><td>-87.6722</td><td>member</td></tr>\n",
       "\t<tr><td>27AD306C119C6158</td><td>docked_bike</td><td>2020-04-18 10:22:59</td><td>2020-04-18 11:15:54</td><td><span style=white-space:pre-wrap>Rush St &amp; Hubbard St               </span></td><td>125</td><td>Sheridan Rd &amp; Lawrence Ave </td><td>323</td><td>41.8902</td><td>-87.6262</td><td>41.9695</td><td>-87.6547</td><td>casual</td></tr>\n",
       "\t<tr><td>356216E875132F61</td><td>docked_bike</td><td>2020-04-30 17:55:47</td><td>2020-04-30 18:01:11</td><td>Mies van der Rohe Way &amp; Chicago Ave</td><td>173</td><td><span style=white-space:pre-wrap>Streeter Dr &amp; Grand Ave    </span></td><td>35 </td><td>41.8969</td><td>-87.6217</td><td>41.8923</td><td>-87.6120</td><td>member</td></tr>\n",
       "</tbody>\n",
       "</table>\n"
      ],
      "text/latex": [
       "A data.table: 6 × 13\n",
       "\\begin{tabular}{lllllllllllll}\n",
       " ride\\_id & rideable\\_type & started\\_at & ended\\_at & start\\_station\\_name & start\\_station\\_id & end\\_station\\_name & end\\_station\\_id & start\\_lat & start\\_lng & end\\_lat & end\\_lng & member\\_casual\\\\\n",
       " <chr> & <chr> & <dttm> & <dttm> & <chr> & <chr> & <chr> & <chr> & <dbl> & <dbl> & <dbl> & <dbl> & <chr>\\\\\n",
       "\\hline\n",
       "\t A847FADBBC638E45 & docked\\_bike & 2020-04-26 17:45:14 & 2020-04-26 18:12:03 & Eckhart Park                        & 86  & Lincoln Ave \\& Diversey Pkwy & 152 & 41.8964 & -87.6610 & 41.9322 & -87.6586 & member\\\\\n",
       "\t 5405B80E996FF60D & docked\\_bike & 2020-04-17 17:08:54 & 2020-04-17 17:17:03 & Drake Ave \\& Fullerton Ave           & 503 & Kosciuszko Park             & 499 & 41.9244 & -87.7154 & 41.9306 & -87.7238 & member\\\\\n",
       "\t 5DD24A79A4E006F4 & docked\\_bike & 2020-04-01 17:54:13 & 2020-04-01 18:08:36 & McClurg Ct \\& Erie St                & 142 & Indiana Ave \\& Roosevelt Rd  & 255 & 41.8945 & -87.6179 & 41.8679 & -87.6230 & member\\\\\n",
       "\t 2A59BBDF5CDBA725 & docked\\_bike & 2020-04-07 12:50:19 & 2020-04-07 13:02:31 & California Ave \\& Division St        & 216 & Wood St \\& Augusta Blvd      & 657 & 41.9030 & -87.6975 & 41.8992 & -87.6722 & member\\\\\n",
       "\t 27AD306C119C6158 & docked\\_bike & 2020-04-18 10:22:59 & 2020-04-18 11:15:54 & Rush St \\& Hubbard St                & 125 & Sheridan Rd \\& Lawrence Ave  & 323 & 41.8902 & -87.6262 & 41.9695 & -87.6547 & casual\\\\\n",
       "\t 356216E875132F61 & docked\\_bike & 2020-04-30 17:55:47 & 2020-04-30 18:01:11 & Mies van der Rohe Way \\& Chicago Ave & 173 & Streeter Dr \\& Grand Ave     & 35  & 41.8969 & -87.6217 & 41.8923 & -87.6120 & member\\\\\n",
       "\\end{tabular}\n"
      ],
      "text/markdown": [
       "\n",
       "A data.table: 6 × 13\n",
       "\n",
       "| ride_id &lt;chr&gt; | rideable_type &lt;chr&gt; | started_at &lt;dttm&gt; | ended_at &lt;dttm&gt; | start_station_name &lt;chr&gt; | start_station_id &lt;chr&gt; | end_station_name &lt;chr&gt; | end_station_id &lt;chr&gt; | start_lat &lt;dbl&gt; | start_lng &lt;dbl&gt; | end_lat &lt;dbl&gt; | end_lng &lt;dbl&gt; | member_casual &lt;chr&gt; |\n",
       "|---|---|---|---|---|---|---|---|---|---|---|---|---|\n",
       "| A847FADBBC638E45 | docked_bike | 2020-04-26 17:45:14 | 2020-04-26 18:12:03 | Eckhart Park                        | 86  | Lincoln Ave &amp; Diversey Pkwy | 152 | 41.8964 | -87.6610 | 41.9322 | -87.6586 | member |\n",
       "| 5405B80E996FF60D | docked_bike | 2020-04-17 17:08:54 | 2020-04-17 17:17:03 | Drake Ave &amp; Fullerton Ave           | 503 | Kosciuszko Park             | 499 | 41.9244 | -87.7154 | 41.9306 | -87.7238 | member |\n",
       "| 5DD24A79A4E006F4 | docked_bike | 2020-04-01 17:54:13 | 2020-04-01 18:08:36 | McClurg Ct &amp; Erie St                | 142 | Indiana Ave &amp; Roosevelt Rd  | 255 | 41.8945 | -87.6179 | 41.8679 | -87.6230 | member |\n",
       "| 2A59BBDF5CDBA725 | docked_bike | 2020-04-07 12:50:19 | 2020-04-07 13:02:31 | California Ave &amp; Division St        | 216 | Wood St &amp; Augusta Blvd      | 657 | 41.9030 | -87.6975 | 41.8992 | -87.6722 | member |\n",
       "| 27AD306C119C6158 | docked_bike | 2020-04-18 10:22:59 | 2020-04-18 11:15:54 | Rush St &amp; Hubbard St                | 125 | Sheridan Rd &amp; Lawrence Ave  | 323 | 41.8902 | -87.6262 | 41.9695 | -87.6547 | casual |\n",
       "| 356216E875132F61 | docked_bike | 2020-04-30 17:55:47 | 2020-04-30 18:01:11 | Mies van der Rohe Way &amp; Chicago Ave | 173 | Streeter Dr &amp; Grand Ave     | 35  | 41.8969 | -87.6217 | 41.8923 | -87.6120 | member |\n",
       "\n"
      ],
      "text/plain": [
       "  ride_id          rideable_type started_at          ended_at           \n",
       "1 A847FADBBC638E45 docked_bike   2020-04-26 17:45:14 2020-04-26 18:12:03\n",
       "2 5405B80E996FF60D docked_bike   2020-04-17 17:08:54 2020-04-17 17:17:03\n",
       "3 5DD24A79A4E006F4 docked_bike   2020-04-01 17:54:13 2020-04-01 18:08:36\n",
       "4 2A59BBDF5CDBA725 docked_bike   2020-04-07 12:50:19 2020-04-07 13:02:31\n",
       "5 27AD306C119C6158 docked_bike   2020-04-18 10:22:59 2020-04-18 11:15:54\n",
       "6 356216E875132F61 docked_bike   2020-04-30 17:55:47 2020-04-30 18:01:11\n",
       "  start_station_name                  start_station_id\n",
       "1 Eckhart Park                        86              \n",
       "2 Drake Ave & Fullerton Ave           503             \n",
       "3 McClurg Ct & Erie St                142             \n",
       "4 California Ave & Division St        216             \n",
       "5 Rush St & Hubbard St                125             \n",
       "6 Mies van der Rohe Way & Chicago Ave 173             \n",
       "  end_station_name            end_station_id start_lat start_lng end_lat\n",
       "1 Lincoln Ave & Diversey Pkwy 152            41.8964   -87.6610  41.9322\n",
       "2 Kosciuszko Park             499            41.9244   -87.7154  41.9306\n",
       "3 Indiana Ave & Roosevelt Rd  255            41.8945   -87.6179  41.8679\n",
       "4 Wood St & Augusta Blvd      657            41.9030   -87.6975  41.8992\n",
       "5 Sheridan Rd & Lawrence Ave  323            41.8902   -87.6262  41.9695\n",
       "6 Streeter Dr & Grand Ave     35             41.8969   -87.6217  41.8923\n",
       "  end_lng  member_casual\n",
       "1 -87.6586 member       \n",
       "2 -87.7238 member       \n",
       "3 -87.6230 member       \n",
       "4 -87.6722 member       \n",
       "5 -87.6547 casual       \n",
       "6 -87.6120 member       "
      ]
     },
     "metadata": {},
     "output_type": "display_data"
    }
   ],
   "source": [
    "str(df1)\n",
    "head(df1)"
   ]
  },
  {
   "cell_type": "code",
   "execution_count": 10,
   "id": "5cd01a74",
   "metadata": {},
   "outputs": [
    {
     "data": {
      "text/html": [
       "0"
      ],
      "text/latex": [
       "0"
      ],
      "text/markdown": [
       "0"
      ],
      "text/plain": [
       "[1] 0"
      ]
     },
     "metadata": {},
     "output_type": "display_data"
    }
   ],
   "source": [
    "#double-checking that df1 is free of duplicate ride_ids\n",
    "sum(duplicated(df1$ride_id))"
   ]
  },
  {
   "cell_type": "markdown",
   "id": "3f63440e",
   "metadata": {},
   "source": [
    "The above code returned 0, meaning that there are no duplicate ride_id entries in df1."
   ]
  },
  {
   "cell_type": "markdown",
   "id": "bee4940e",
   "metadata": {},
   "source": [
    "##### ~Dropping irrelevant columns\n",
    "The next step I will undertake in my data cleaning process is to drop the columns that would not be useful for my analysis. Having studied a sample of the data in Excel, I can tell that the following 6 columns would not be useful in my analysis, and I would be dropping them:\n",
    "  i.Start_station_id\n",
    " ii.End_station_id\n",
    "iii.Start_lat\n",
    " iv.Start_lng\n",
    "  v.End_lat\n",
    " vi.End_lng"
   ]
  },
  {
   "cell_type": "code",
   "execution_count": 11,
   "id": "6ad13fb5",
   "metadata": {},
   "outputs": [
    {
     "name": "stdout",
     "output_type": "stream",
     "text": [
      "Classes 'data.table' and 'data.frame':\t3489539 obs. of  7 variables:\n",
      " $ ride_id           : chr  \"A847FADBBC638E45\" \"5405B80E996FF60D\" \"5DD24A79A4E006F4\" \"2A59BBDF5CDBA725\" ...\n",
      " $ rideable_type     : chr  \"docked_bike\" \"docked_bike\" \"docked_bike\" \"docked_bike\" ...\n",
      " $ started_at        : POSIXct, format: \"2020-04-26 17:45:14\" \"2020-04-17 17:08:54\" ...\n",
      " $ ended_at          : POSIXct, format: \"2020-04-26 18:12:03\" \"2020-04-17 17:17:03\" ...\n",
      " $ start_station_name: chr  \"Eckhart Park\" \"Drake Ave & Fullerton Ave\" \"McClurg Ct & Erie St\" \"California Ave & Division St\" ...\n",
      " $ end_station_name  : chr  \"Lincoln Ave & Diversey Pkwy\" \"Kosciuszko Park\" \"Indiana Ave & Roosevelt Rd\" \"Wood St & Augusta Blvd\" ...\n",
      " $ member_casual     : chr  \"member\" \"member\" \"member\" \"member\" ...\n",
      " - attr(*, \".internal.selfref\")=<externalptr> \n"
     ]
    }
   ],
   "source": [
    "#dropping the above mentioned columns\n",
    "df2 <- select(df1, -6, -8:-12)\n",
    "str(df2)"
   ]
  },
  {
   "cell_type": "markdown",
   "id": "511ec90a",
   "metadata": {},
   "source": [
    "##### ~Taking care of missing values\n",
    "Now that I have dropped the columns mentioned, my next step would be to take care of missing values in the columns of my dataframe.  \n",
    "The lines of code below would check to see if there are missing values in df2, and tell me which columns (if any) contain the missing variables."
   ]
  },
  {
   "cell_type": "code",
   "execution_count": 12,
   "id": "6486f086",
   "metadata": {},
   "outputs": [
    {
     "data": {
      "text/html": [
       "265416"
      ],
      "text/latex": [
       "265416"
      ],
      "text/markdown": [
       "265416"
      ],
      "text/plain": [
       "[1] 265416"
      ]
     },
     "metadata": {},
     "output_type": "display_data"
    }
   ],
   "source": [
    "#returns sum of missing values in df2\n",
    "sum(is.na(df2))"
   ]
  },
  {
   "cell_type": "code",
   "execution_count": 13,
   "id": "d29f8982",
   "metadata": {},
   "outputs": [
    {
     "data": {
      "text/html": [
       "<style>\n",
       ".list-inline {list-style: none; margin:0; padding: 0}\n",
       ".list-inline>li {display: inline-block}\n",
       ".list-inline>li:not(:last-child)::after {content: \"\\00b7\"; padding: 0 .5ex}\n",
       "</style>\n",
       "<ol class=list-inline><li>'start_station_name'</li><li>'end_station_name'</li></ol>\n"
      ],
      "text/latex": [
       "\\begin{enumerate*}\n",
       "\\item 'start\\_station\\_name'\n",
       "\\item 'end\\_station\\_name'\n",
       "\\end{enumerate*}\n"
      ],
      "text/markdown": [
       "1. 'start_station_name'\n",
       "2. 'end_station_name'\n",
       "\n",
       "\n"
      ],
      "text/plain": [
       "[1] \"start_station_name\" \"end_station_name\"  "
      ]
     },
     "metadata": {},
     "output_type": "display_data"
    }
   ],
   "source": [
    "#returns the names of columns where those missing values exist\n",
    "names(which(colSums(is.na(df2))>0))"
   ]
  },
  {
   "cell_type": "markdown",
   "id": "025dfec5",
   "metadata": {},
   "source": [
    "The code returned 2 columns with missing values: start_station_name and end_station_name. For the purpose of this analysis, I will fill in the missing station names with \"Unknown\"."
   ]
  },
  {
   "cell_type": "code",
   "execution_count": 14,
   "id": "679d7a90",
   "metadata": {},
   "outputs": [],
   "source": [
    "#replace missing start_name_id and end_name_id with unknown\n",
    "df2 <- df2 %>% \n",
    "  replace_na(list(start_station_name = \"Unknown\", end_station_name = \"Unknown\"))"
   ]
  },
  {
   "cell_type": "markdown",
   "id": "3b4676bc",
   "metadata": {},
   "source": [
    "Now that I have replaced the missing station name values with \"Unknown\", I will use the code below to double check that there are no more missing values in df2."
   ]
  },
  {
   "cell_type": "code",
   "execution_count": 15,
   "id": "85934428",
   "metadata": {},
   "outputs": [
    {
     "data": {
      "text/html": [
       "0"
      ],
      "text/latex": [
       "0"
      ],
      "text/markdown": [
       "0"
      ],
      "text/plain": [
       "[1] 0"
      ]
     },
     "metadata": {},
     "output_type": "display_data"
    }
   ],
   "source": [
    "sum(is.na(df2))"
   ]
  },
  {
   "cell_type": "markdown",
   "id": "825bf535",
   "metadata": {},
   "source": [
    "The code returned 0, meaning that there are no longer missing values in df2."
   ]
  },
  {
   "cell_type": "markdown",
   "id": "b95487e3",
   "metadata": {},
   "source": [
    "##### ~Adding calculated columns\n",
    "For my analysis, I want to add calculated columns such as:  \n",
    "-Ride_length to calculate the length of each ride   \n",
    "-Day_of_week, month, season, to check for periodic trends"
   ]
  },
  {
   "cell_type": "code",
   "execution_count": 16,
   "id": "c72ed211",
   "metadata": {},
   "outputs": [
    {
     "name": "stdout",
     "output_type": "stream",
     "text": [
      "Classes 'data.table' and 'data.frame':\t3489539 obs. of  11 variables:\n",
      " $ ride_id           : chr  \"A847FADBBC638E45\" \"5405B80E996FF60D\" \"5DD24A79A4E006F4\" \"2A59BBDF5CDBA725\" ...\n",
      " $ rideable_type     : chr  \"docked_bike\" \"docked_bike\" \"docked_bike\" \"docked_bike\" ...\n",
      " $ started_at        : POSIXct, format: \"2020-04-26 17:45:14\" \"2020-04-17 17:08:54\" ...\n",
      " $ ended_at          : POSIXct, format: \"2020-04-26 18:12:03\" \"2020-04-17 17:17:03\" ...\n",
      " $ start_station_name: chr  \"Eckhart Park\" \"Drake Ave & Fullerton Ave\" \"McClurg Ct & Erie St\" \"California Ave & Division St\" ...\n",
      " $ end_station_name  : chr  \"Lincoln Ave & Diversey Pkwy\" \"Kosciuszko Park\" \"Indiana Ave & Roosevelt Rd\" \"Wood St & Augusta Blvd\" ...\n",
      " $ member_casual     : chr  \"member\" \"member\" \"member\" \"member\" ...\n",
      " $ ride_length       : 'difftime' num  26.8166666666667 8.15 14.3833333333333 12.2 ...\n",
      "  ..- attr(*, \"units\")= chr \"mins\"\n",
      " $ day_of_week       : chr  \"Sun\" \"Fri\" \"Wed\" \"Tue\" ...\n",
      " $ month             : Ord.factor w/ 12 levels \"Jan\"<\"Feb\"<\"Mar\"<..: 4 4 4 4 4 4 4 4 4 4 ...\n",
      " $ season            : Ord.factor w/ 4 levels \"Winter\"<\"Spring\"<..: 2 2 2 2 2 2 2 2 2 2 ...\n",
      " - attr(*, \".internal.selfref\")=<externalptr> \n"
     ]
    },
    {
     "data": {
      "text/html": [
       "<table class=\"dataframe\">\n",
       "<caption>A data.table: 6 × 11</caption>\n",
       "<thead>\n",
       "\t<tr><th scope=col>ride_id</th><th scope=col>rideable_type</th><th scope=col>started_at</th><th scope=col>ended_at</th><th scope=col>start_station_name</th><th scope=col>end_station_name</th><th scope=col>member_casual</th><th scope=col>ride_length</th><th scope=col>day_of_week</th><th scope=col>month</th><th scope=col>season</th></tr>\n",
       "\t<tr><th scope=col>&lt;chr&gt;</th><th scope=col>&lt;chr&gt;</th><th scope=col>&lt;dttm&gt;</th><th scope=col>&lt;dttm&gt;</th><th scope=col>&lt;chr&gt;</th><th scope=col>&lt;chr&gt;</th><th scope=col>&lt;chr&gt;</th><th scope=col>&lt;drtn&gt;</th><th scope=col>&lt;chr&gt;</th><th scope=col>&lt;ord&gt;</th><th scope=col>&lt;ord&gt;</th></tr>\n",
       "</thead>\n",
       "<tbody>\n",
       "\t<tr><td>A847FADBBC638E45</td><td>docked_bike</td><td>2020-04-26 17:45:14</td><td>2020-04-26 18:12:03</td><td><span style=white-space:pre-wrap>Eckhart Park                       </span></td><td>Lincoln Ave &amp; Diversey Pkwy</td><td>member</td><td>26.81667 mins</td><td>Sun</td><td>Apr</td><td>Spring</td></tr>\n",
       "\t<tr><td>5405B80E996FF60D</td><td>docked_bike</td><td>2020-04-17 17:08:54</td><td>2020-04-17 17:17:03</td><td><span style=white-space:pre-wrap>Drake Ave &amp; Fullerton Ave          </span></td><td><span style=white-space:pre-wrap>Kosciuszko Park            </span></td><td>member</td><td> 8.15000 mins</td><td>Fri</td><td>Apr</td><td>Spring</td></tr>\n",
       "\t<tr><td>5DD24A79A4E006F4</td><td>docked_bike</td><td>2020-04-01 17:54:13</td><td>2020-04-01 18:08:36</td><td><span style=white-space:pre-wrap>McClurg Ct &amp; Erie St               </span></td><td>Indiana Ave &amp; Roosevelt Rd </td><td>member</td><td>14.38333 mins</td><td>Wed</td><td>Apr</td><td>Spring</td></tr>\n",
       "\t<tr><td>2A59BBDF5CDBA725</td><td>docked_bike</td><td>2020-04-07 12:50:19</td><td>2020-04-07 13:02:31</td><td><span style=white-space:pre-wrap>California Ave &amp; Division St       </span></td><td><span style=white-space:pre-wrap>Wood St &amp; Augusta Blvd     </span></td><td>member</td><td>12.20000 mins</td><td>Tue</td><td>Apr</td><td>Spring</td></tr>\n",
       "\t<tr><td>27AD306C119C6158</td><td>docked_bike</td><td>2020-04-18 10:22:59</td><td>2020-04-18 11:15:54</td><td><span style=white-space:pre-wrap>Rush St &amp; Hubbard St               </span></td><td>Sheridan Rd &amp; Lawrence Ave </td><td>casual</td><td>52.91667 mins</td><td>Sat</td><td>Apr</td><td>Spring</td></tr>\n",
       "\t<tr><td>356216E875132F61</td><td>docked_bike</td><td>2020-04-30 17:55:47</td><td>2020-04-30 18:01:11</td><td>Mies van der Rohe Way &amp; Chicago Ave</td><td><span style=white-space:pre-wrap>Streeter Dr &amp; Grand Ave    </span></td><td>member</td><td> 5.40000 mins</td><td>Thu</td><td>Apr</td><td>Spring</td></tr>\n",
       "</tbody>\n",
       "</table>\n"
      ],
      "text/latex": [
       "A data.table: 6 × 11\n",
       "\\begin{tabular}{lllllllllll}\n",
       " ride\\_id & rideable\\_type & started\\_at & ended\\_at & start\\_station\\_name & end\\_station\\_name & member\\_casual & ride\\_length & day\\_of\\_week & month & season\\\\\n",
       " <chr> & <chr> & <dttm> & <dttm> & <chr> & <chr> & <chr> & <drtn> & <chr> & <ord> & <ord>\\\\\n",
       "\\hline\n",
       "\t A847FADBBC638E45 & docked\\_bike & 2020-04-26 17:45:14 & 2020-04-26 18:12:03 & Eckhart Park                        & Lincoln Ave \\& Diversey Pkwy & member & 26.81667 mins & Sun & Apr & Spring\\\\\n",
       "\t 5405B80E996FF60D & docked\\_bike & 2020-04-17 17:08:54 & 2020-04-17 17:17:03 & Drake Ave \\& Fullerton Ave           & Kosciuszko Park             & member &  8.15000 mins & Fri & Apr & Spring\\\\\n",
       "\t 5DD24A79A4E006F4 & docked\\_bike & 2020-04-01 17:54:13 & 2020-04-01 18:08:36 & McClurg Ct \\& Erie St                & Indiana Ave \\& Roosevelt Rd  & member & 14.38333 mins & Wed & Apr & Spring\\\\\n",
       "\t 2A59BBDF5CDBA725 & docked\\_bike & 2020-04-07 12:50:19 & 2020-04-07 13:02:31 & California Ave \\& Division St        & Wood St \\& Augusta Blvd      & member & 12.20000 mins & Tue & Apr & Spring\\\\\n",
       "\t 27AD306C119C6158 & docked\\_bike & 2020-04-18 10:22:59 & 2020-04-18 11:15:54 & Rush St \\& Hubbard St                & Sheridan Rd \\& Lawrence Ave  & casual & 52.91667 mins & Sat & Apr & Spring\\\\\n",
       "\t 356216E875132F61 & docked\\_bike & 2020-04-30 17:55:47 & 2020-04-30 18:01:11 & Mies van der Rohe Way \\& Chicago Ave & Streeter Dr \\& Grand Ave     & member &  5.40000 mins & Thu & Apr & Spring\\\\\n",
       "\\end{tabular}\n"
      ],
      "text/markdown": [
       "\n",
       "A data.table: 6 × 11\n",
       "\n",
       "| ride_id &lt;chr&gt; | rideable_type &lt;chr&gt; | started_at &lt;dttm&gt; | ended_at &lt;dttm&gt; | start_station_name &lt;chr&gt; | end_station_name &lt;chr&gt; | member_casual &lt;chr&gt; | ride_length &lt;drtn&gt; | day_of_week &lt;chr&gt; | month &lt;ord&gt; | season &lt;ord&gt; |\n",
       "|---|---|---|---|---|---|---|---|---|---|---|\n",
       "| A847FADBBC638E45 | docked_bike | 2020-04-26 17:45:14 | 2020-04-26 18:12:03 | Eckhart Park                        | Lincoln Ave &amp; Diversey Pkwy | member | 26.81667 mins | Sun | Apr | Spring |\n",
       "| 5405B80E996FF60D | docked_bike | 2020-04-17 17:08:54 | 2020-04-17 17:17:03 | Drake Ave &amp; Fullerton Ave           | Kosciuszko Park             | member |  8.15000 mins | Fri | Apr | Spring |\n",
       "| 5DD24A79A4E006F4 | docked_bike | 2020-04-01 17:54:13 | 2020-04-01 18:08:36 | McClurg Ct &amp; Erie St                | Indiana Ave &amp; Roosevelt Rd  | member | 14.38333 mins | Wed | Apr | Spring |\n",
       "| 2A59BBDF5CDBA725 | docked_bike | 2020-04-07 12:50:19 | 2020-04-07 13:02:31 | California Ave &amp; Division St        | Wood St &amp; Augusta Blvd      | member | 12.20000 mins | Tue | Apr | Spring |\n",
       "| 27AD306C119C6158 | docked_bike | 2020-04-18 10:22:59 | 2020-04-18 11:15:54 | Rush St &amp; Hubbard St                | Sheridan Rd &amp; Lawrence Ave  | casual | 52.91667 mins | Sat | Apr | Spring |\n",
       "| 356216E875132F61 | docked_bike | 2020-04-30 17:55:47 | 2020-04-30 18:01:11 | Mies van der Rohe Way &amp; Chicago Ave | Streeter Dr &amp; Grand Ave     | member |  5.40000 mins | Thu | Apr | Spring |\n",
       "\n"
      ],
      "text/plain": [
       "  ride_id          rideable_type started_at          ended_at           \n",
       "1 A847FADBBC638E45 docked_bike   2020-04-26 17:45:14 2020-04-26 18:12:03\n",
       "2 5405B80E996FF60D docked_bike   2020-04-17 17:08:54 2020-04-17 17:17:03\n",
       "3 5DD24A79A4E006F4 docked_bike   2020-04-01 17:54:13 2020-04-01 18:08:36\n",
       "4 2A59BBDF5CDBA725 docked_bike   2020-04-07 12:50:19 2020-04-07 13:02:31\n",
       "5 27AD306C119C6158 docked_bike   2020-04-18 10:22:59 2020-04-18 11:15:54\n",
       "6 356216E875132F61 docked_bike   2020-04-30 17:55:47 2020-04-30 18:01:11\n",
       "  start_station_name                  end_station_name            member_casual\n",
       "1 Eckhart Park                        Lincoln Ave & Diversey Pkwy member       \n",
       "2 Drake Ave & Fullerton Ave           Kosciuszko Park             member       \n",
       "3 McClurg Ct & Erie St                Indiana Ave & Roosevelt Rd  member       \n",
       "4 California Ave & Division St        Wood St & Augusta Blvd      member       \n",
       "5 Rush St & Hubbard St                Sheridan Rd & Lawrence Ave  casual       \n",
       "6 Mies van der Rohe Way & Chicago Ave Streeter Dr & Grand Ave     member       \n",
       "  ride_length   day_of_week month season\n",
       "1 26.81667 mins Sun         Apr   Spring\n",
       "2  8.15000 mins Fri         Apr   Spring\n",
       "3 14.38333 mins Wed         Apr   Spring\n",
       "4 12.20000 mins Tue         Apr   Spring\n",
       "5 52.91667 mins Sat         Apr   Spring\n",
       "6  5.40000 mins Thu         Apr   Spring"
      ]
     },
     "metadata": {},
     "output_type": "display_data"
    }
   ],
   "source": [
    "#adding ride length\n",
    "df2 <- df2 %>%\n",
    "  mutate(ride_length = difftime(ended_at, started_at, units = \"mins\"))\n",
    "\n",
    "#adding day of week \n",
    "df2 <- df2 %>%\n",
    "  mutate(day_of_week = weekdays(started_at, abbr = TRUE))\n",
    "\n",
    "#assigning month\n",
    "df2 <- df2 %>%\n",
    "  mutate(month = month(started_at, label = TRUE, abbr  = TRUE))\n",
    "\n",
    "#appending seasons\n",
    "#Ps.:I could use an ifelse() function to assign seasons to months, but I believe I can get away with a slightly shorter and\n",
    "#equally straightforward code using the fct_collapse() function.\n",
    "\n",
    "df2 <- df2 %>%\n",
    "  mutate(season = fct_collapse(month, \"Spring\" = month.abb[3:5], \n",
    "                               \"Summer\" = month.abb[6:8],\n",
    "                               \"Autumn\" = month.abb[9:11],       \n",
    "                               \"Winter\" = month.abb[c(12,1,2)]))    \n",
    "\n",
    "str(df2)\n",
    "head(df2)"
   ]
  },
  {
   "cell_type": "markdown",
   "id": "3b7732c5",
   "metadata": {},
   "source": [
    "##### ~Removing bad data\n",
    "i).The dataframe includes a few hundred entries when bikes were taken out of docks and checked for quality by Divvy staff.In those cases, the start_station_name includes the phrase \"BIKE CHECKING (LBS-WH-TEST)\". I will use the lines of code below to check for those cases and drop them, since they were not actual rides."
   ]
  },
  {
   "cell_type": "code",
   "execution_count": 17,
   "id": "ac9f139e",
   "metadata": {},
   "outputs": [
    {
     "data": {
      "text/html": [
       "<table class=\"dataframe\">\n",
       "<caption>A data.table: 6 × 11</caption>\n",
       "<thead>\n",
       "\t<tr><th scope=col>ride_id</th><th scope=col>rideable_type</th><th scope=col>started_at</th><th scope=col>ended_at</th><th scope=col>start_station_name</th><th scope=col>end_station_name</th><th scope=col>member_casual</th><th scope=col>ride_length</th><th scope=col>day_of_week</th><th scope=col>month</th><th scope=col>season</th></tr>\n",
       "\t<tr><th scope=col>&lt;chr&gt;</th><th scope=col>&lt;chr&gt;</th><th scope=col>&lt;dttm&gt;</th><th scope=col>&lt;dttm&gt;</th><th scope=col>&lt;chr&gt;</th><th scope=col>&lt;chr&gt;</th><th scope=col>&lt;chr&gt;</th><th scope=col>&lt;drtn&gt;</th><th scope=col>&lt;chr&gt;</th><th scope=col>&lt;ord&gt;</th><th scope=col>&lt;ord&gt;</th></tr>\n",
       "</thead>\n",
       "<tbody>\n",
       "\t<tr><td>01FD073BD38D7552</td><td>docked_bike</td><td>2020-04-24 17:35:34</td><td>2020-04-24 17:35:39</td><td>HUBBARD ST BIKE CHECKING (LBS-WH-TEST)</td><td>HUBBARD ST BIKE CHECKING (LBS-WH-TEST)</td><td>casual</td><td> 0.08333333 mins</td><td>Fri</td><td>Apr</td><td>Spring</td></tr>\n",
       "\t<tr><td>CECF2063F123EC9A</td><td>docked_bike</td><td>2020-04-24 17:31:57</td><td>2020-04-24 17:32:03</td><td>HUBBARD ST BIKE CHECKING (LBS-WH-TEST)</td><td>HUBBARD ST BIKE CHECKING (LBS-WH-TEST)</td><td>casual</td><td> 0.10000000 mins</td><td>Fri</td><td>Apr</td><td>Spring</td></tr>\n",
       "\t<tr><td>FF8783D4486B3C32</td><td>docked_bike</td><td>2020-04-24 17:41:10</td><td>2020-04-24 17:41:13</td><td>HUBBARD ST BIKE CHECKING (LBS-WH-TEST)</td><td>HUBBARD ST BIKE CHECKING (LBS-WH-TEST)</td><td>casual</td><td> 0.05000000 mins</td><td>Fri</td><td>Apr</td><td>Spring</td></tr>\n",
       "\t<tr><td>8DFF54760BFBEF6A</td><td>docked_bike</td><td>2020-04-24 17:30:33</td><td>2020-04-24 17:30:44</td><td>HUBBARD ST BIKE CHECKING (LBS-WH-TEST)</td><td>HUBBARD ST BIKE CHECKING (LBS-WH-TEST)</td><td>casual</td><td> 0.18333333 mins</td><td>Fri</td><td>Apr</td><td>Spring</td></tr>\n",
       "\t<tr><td>FB8CA100BDCEE0C9</td><td>docked_bike</td><td>2020-04-24 17:59:25</td><td>2020-04-24 17:59:30</td><td>HUBBARD ST BIKE CHECKING (LBS-WH-TEST)</td><td>HUBBARD ST BIKE CHECKING (LBS-WH-TEST)</td><td>casual</td><td> 0.08333333 mins</td><td>Fri</td><td>Apr</td><td>Spring</td></tr>\n",
       "\t<tr><td>41E80A7BDB6409C3</td><td>docked_bike</td><td>2020-04-24 17:59:12</td><td>2020-04-24 17:59:00</td><td>HUBBARD ST BIKE CHECKING (LBS-WH-TEST)</td><td>HUBBARD ST BIKE CHECKING (LBS-WH-TEST)</td><td>casual</td><td>-0.20000000 mins</td><td>Fri</td><td>Apr</td><td>Spring</td></tr>\n",
       "</tbody>\n",
       "</table>\n"
      ],
      "text/latex": [
       "A data.table: 6 × 11\n",
       "\\begin{tabular}{lllllllllll}\n",
       " ride\\_id & rideable\\_type & started\\_at & ended\\_at & start\\_station\\_name & end\\_station\\_name & member\\_casual & ride\\_length & day\\_of\\_week & month & season\\\\\n",
       " <chr> & <chr> & <dttm> & <dttm> & <chr> & <chr> & <chr> & <drtn> & <chr> & <ord> & <ord>\\\\\n",
       "\\hline\n",
       "\t 01FD073BD38D7552 & docked\\_bike & 2020-04-24 17:35:34 & 2020-04-24 17:35:39 & HUBBARD ST BIKE CHECKING (LBS-WH-TEST) & HUBBARD ST BIKE CHECKING (LBS-WH-TEST) & casual &  0.08333333 mins & Fri & Apr & Spring\\\\\n",
       "\t CECF2063F123EC9A & docked\\_bike & 2020-04-24 17:31:57 & 2020-04-24 17:32:03 & HUBBARD ST BIKE CHECKING (LBS-WH-TEST) & HUBBARD ST BIKE CHECKING (LBS-WH-TEST) & casual &  0.10000000 mins & Fri & Apr & Spring\\\\\n",
       "\t FF8783D4486B3C32 & docked\\_bike & 2020-04-24 17:41:10 & 2020-04-24 17:41:13 & HUBBARD ST BIKE CHECKING (LBS-WH-TEST) & HUBBARD ST BIKE CHECKING (LBS-WH-TEST) & casual &  0.05000000 mins & Fri & Apr & Spring\\\\\n",
       "\t 8DFF54760BFBEF6A & docked\\_bike & 2020-04-24 17:30:33 & 2020-04-24 17:30:44 & HUBBARD ST BIKE CHECKING (LBS-WH-TEST) & HUBBARD ST BIKE CHECKING (LBS-WH-TEST) & casual &  0.18333333 mins & Fri & Apr & Spring\\\\\n",
       "\t FB8CA100BDCEE0C9 & docked\\_bike & 2020-04-24 17:59:25 & 2020-04-24 17:59:30 & HUBBARD ST BIKE CHECKING (LBS-WH-TEST) & HUBBARD ST BIKE CHECKING (LBS-WH-TEST) & casual &  0.08333333 mins & Fri & Apr & Spring\\\\\n",
       "\t 41E80A7BDB6409C3 & docked\\_bike & 2020-04-24 17:59:12 & 2020-04-24 17:59:00 & HUBBARD ST BIKE CHECKING (LBS-WH-TEST) & HUBBARD ST BIKE CHECKING (LBS-WH-TEST) & casual & -0.20000000 mins & Fri & Apr & Spring\\\\\n",
       "\\end{tabular}\n"
      ],
      "text/markdown": [
       "\n",
       "A data.table: 6 × 11\n",
       "\n",
       "| ride_id &lt;chr&gt; | rideable_type &lt;chr&gt; | started_at &lt;dttm&gt; | ended_at &lt;dttm&gt; | start_station_name &lt;chr&gt; | end_station_name &lt;chr&gt; | member_casual &lt;chr&gt; | ride_length &lt;drtn&gt; | day_of_week &lt;chr&gt; | month &lt;ord&gt; | season &lt;ord&gt; |\n",
       "|---|---|---|---|---|---|---|---|---|---|---|\n",
       "| 01FD073BD38D7552 | docked_bike | 2020-04-24 17:35:34 | 2020-04-24 17:35:39 | HUBBARD ST BIKE CHECKING (LBS-WH-TEST) | HUBBARD ST BIKE CHECKING (LBS-WH-TEST) | casual |  0.08333333 mins | Fri | Apr | Spring |\n",
       "| CECF2063F123EC9A | docked_bike | 2020-04-24 17:31:57 | 2020-04-24 17:32:03 | HUBBARD ST BIKE CHECKING (LBS-WH-TEST) | HUBBARD ST BIKE CHECKING (LBS-WH-TEST) | casual |  0.10000000 mins | Fri | Apr | Spring |\n",
       "| FF8783D4486B3C32 | docked_bike | 2020-04-24 17:41:10 | 2020-04-24 17:41:13 | HUBBARD ST BIKE CHECKING (LBS-WH-TEST) | HUBBARD ST BIKE CHECKING (LBS-WH-TEST) | casual |  0.05000000 mins | Fri | Apr | Spring |\n",
       "| 8DFF54760BFBEF6A | docked_bike | 2020-04-24 17:30:33 | 2020-04-24 17:30:44 | HUBBARD ST BIKE CHECKING (LBS-WH-TEST) | HUBBARD ST BIKE CHECKING (LBS-WH-TEST) | casual |  0.18333333 mins | Fri | Apr | Spring |\n",
       "| FB8CA100BDCEE0C9 | docked_bike | 2020-04-24 17:59:25 | 2020-04-24 17:59:30 | HUBBARD ST BIKE CHECKING (LBS-WH-TEST) | HUBBARD ST BIKE CHECKING (LBS-WH-TEST) | casual |  0.08333333 mins | Fri | Apr | Spring |\n",
       "| 41E80A7BDB6409C3 | docked_bike | 2020-04-24 17:59:12 | 2020-04-24 17:59:00 | HUBBARD ST BIKE CHECKING (LBS-WH-TEST) | HUBBARD ST BIKE CHECKING (LBS-WH-TEST) | casual | -0.20000000 mins | Fri | Apr | Spring |\n",
       "\n"
      ],
      "text/plain": [
       "  ride_id          rideable_type started_at          ended_at           \n",
       "1 01FD073BD38D7552 docked_bike   2020-04-24 17:35:34 2020-04-24 17:35:39\n",
       "2 CECF2063F123EC9A docked_bike   2020-04-24 17:31:57 2020-04-24 17:32:03\n",
       "3 FF8783D4486B3C32 docked_bike   2020-04-24 17:41:10 2020-04-24 17:41:13\n",
       "4 8DFF54760BFBEF6A docked_bike   2020-04-24 17:30:33 2020-04-24 17:30:44\n",
       "5 FB8CA100BDCEE0C9 docked_bike   2020-04-24 17:59:25 2020-04-24 17:59:30\n",
       "6 41E80A7BDB6409C3 docked_bike   2020-04-24 17:59:12 2020-04-24 17:59:00\n",
       "  start_station_name                     end_station_name                      \n",
       "1 HUBBARD ST BIKE CHECKING (LBS-WH-TEST) HUBBARD ST BIKE CHECKING (LBS-WH-TEST)\n",
       "2 HUBBARD ST BIKE CHECKING (LBS-WH-TEST) HUBBARD ST BIKE CHECKING (LBS-WH-TEST)\n",
       "3 HUBBARD ST BIKE CHECKING (LBS-WH-TEST) HUBBARD ST BIKE CHECKING (LBS-WH-TEST)\n",
       "4 HUBBARD ST BIKE CHECKING (LBS-WH-TEST) HUBBARD ST BIKE CHECKING (LBS-WH-TEST)\n",
       "5 HUBBARD ST BIKE CHECKING (LBS-WH-TEST) HUBBARD ST BIKE CHECKING (LBS-WH-TEST)\n",
       "6 HUBBARD ST BIKE CHECKING (LBS-WH-TEST) HUBBARD ST BIKE CHECKING (LBS-WH-TEST)\n",
       "  member_casual ride_length      day_of_week month season\n",
       "1 casual         0.08333333 mins Fri         Apr   Spring\n",
       "2 casual         0.10000000 mins Fri         Apr   Spring\n",
       "3 casual         0.05000000 mins Fri         Apr   Spring\n",
       "4 casual         0.18333333 mins Fri         Apr   Spring\n",
       "5 casual         0.08333333 mins Fri         Apr   Spring\n",
       "6 casual        -0.20000000 mins Fri         Apr   Spring"
      ]
     },
     "metadata": {},
     "output_type": "display_data"
    }
   ],
   "source": [
    "#check for cases where bikes were checked for quality by Divvy staff\n",
    "bike_checking<- subset(df2, grepl(\"BIKE CHECKING\", df2$start_station_name))\n",
    "head(bike_checking)"
   ]
  },
  {
   "cell_type": "code",
   "execution_count": 18,
   "id": "2d2912fd",
   "metadata": {},
   "outputs": [],
   "source": [
    "#drop entries where quality checks were made\n",
    "df3 <- df2[!grepl(\"BIKE CHECKING\", df2$start_station_name),]"
   ]
  },
  {
   "cell_type": "markdown",
   "id": "4b03916f",
   "metadata": {},
   "source": [
    "ii).There are entries where the start_station_id and end_station_id are the same, and the ride length is less than one minute. In this case, the customer might have had a change of mind and docked the bike back to the station. Using the lines of code below, I will view and drop such entries, since actual rides weren't made. "
   ]
  },
  {
   "cell_type": "code",
   "execution_count": 19,
   "id": "cc253741",
   "metadata": {},
   "outputs": [
    {
     "data": {
      "text/html": [
       "<table class=\"dataframe\">\n",
       "<caption>A data.table: 6 × 11</caption>\n",
       "<thead>\n",
       "\t<tr><th scope=col>ride_id</th><th scope=col>rideable_type</th><th scope=col>started_at</th><th scope=col>ended_at</th><th scope=col>start_station_name</th><th scope=col>end_station_name</th><th scope=col>member_casual</th><th scope=col>ride_length</th><th scope=col>day_of_week</th><th scope=col>month</th><th scope=col>season</th></tr>\n",
       "\t<tr><th scope=col>&lt;chr&gt;</th><th scope=col>&lt;chr&gt;</th><th scope=col>&lt;dttm&gt;</th><th scope=col>&lt;dttm&gt;</th><th scope=col>&lt;chr&gt;</th><th scope=col>&lt;chr&gt;</th><th scope=col>&lt;chr&gt;</th><th scope=col>&lt;drtn&gt;</th><th scope=col>&lt;chr&gt;</th><th scope=col>&lt;ord&gt;</th><th scope=col>&lt;ord&gt;</th></tr>\n",
       "</thead>\n",
       "<tbody>\n",
       "\t<tr><td>EA0FBC59F73B90B6</td><td>docked_bike</td><td>2020-04-28 06:22:45</td><td>2020-04-28 06:22:48</td><td><span style=white-space:pre-wrap>Cannon Dr &amp; Fullerton Ave     </span></td><td><span style=white-space:pre-wrap>Cannon Dr &amp; Fullerton Ave     </span></td><td>member</td><td>0.0500000 mins</td><td>Tue</td><td>Apr</td><td>Spring</td></tr>\n",
       "\t<tr><td>8A52587DCD27DB83</td><td>docked_bike</td><td>2020-04-07 06:03:39</td><td>2020-04-07 06:03:42</td><td><span style=white-space:pre-wrap>Wells St &amp; Hubbard St         </span></td><td><span style=white-space:pre-wrap>Wells St &amp; Hubbard St         </span></td><td>member</td><td>0.0500000 mins</td><td>Tue</td><td>Apr</td><td>Spring</td></tr>\n",
       "\t<tr><td>9C9D48177CF76D59</td><td>docked_bike</td><td>2020-04-12 08:40:17</td><td>2020-04-12 08:40:54</td><td><span style=white-space:pre-wrap>Wilton Ave &amp; Diversey Pkwy    </span></td><td><span style=white-space:pre-wrap>Wilton Ave &amp; Diversey Pkwy    </span></td><td>member</td><td>0.6166667 mins</td><td>Sun</td><td>Apr</td><td>Spring</td></tr>\n",
       "\t<tr><td>29C794861AE2E12D</td><td>docked_bike</td><td>2020-04-11 05:23:17</td><td>2020-04-11 05:23:23</td><td>Sheffield Ave &amp; Wellington Ave</td><td>Sheffield Ave &amp; Wellington Ave</td><td>member</td><td>0.1000000 mins</td><td>Sat</td><td>Apr</td><td>Spring</td></tr>\n",
       "\t<tr><td>DF1764DB2E9ED62B</td><td>docked_bike</td><td>2020-04-23 14:45:29</td><td>2020-04-23 14:45:47</td><td><span style=white-space:pre-wrap>Broadway &amp; Cornelia Ave       </span></td><td><span style=white-space:pre-wrap>Broadway &amp; Cornelia Ave       </span></td><td>member</td><td>0.3000000 mins</td><td>Thu</td><td>Apr</td><td>Spring</td></tr>\n",
       "\t<tr><td>0DFF15F9038D6B8D</td><td>docked_bike</td><td>2020-04-03 15:46:08</td><td>2020-04-03 15:46:31</td><td><span style=white-space:pre-wrap>Racine Ave &amp; 18th St          </span></td><td><span style=white-space:pre-wrap>Racine Ave &amp; 18th St          </span></td><td>member</td><td>0.3833333 mins</td><td>Fri</td><td>Apr</td><td>Spring</td></tr>\n",
       "</tbody>\n",
       "</table>\n"
      ],
      "text/latex": [
       "A data.table: 6 × 11\n",
       "\\begin{tabular}{lllllllllll}\n",
       " ride\\_id & rideable\\_type & started\\_at & ended\\_at & start\\_station\\_name & end\\_station\\_name & member\\_casual & ride\\_length & day\\_of\\_week & month & season\\\\\n",
       " <chr> & <chr> & <dttm> & <dttm> & <chr> & <chr> & <chr> & <drtn> & <chr> & <ord> & <ord>\\\\\n",
       "\\hline\n",
       "\t EA0FBC59F73B90B6 & docked\\_bike & 2020-04-28 06:22:45 & 2020-04-28 06:22:48 & Cannon Dr \\& Fullerton Ave      & Cannon Dr \\& Fullerton Ave      & member & 0.0500000 mins & Tue & Apr & Spring\\\\\n",
       "\t 8A52587DCD27DB83 & docked\\_bike & 2020-04-07 06:03:39 & 2020-04-07 06:03:42 & Wells St \\& Hubbard St          & Wells St \\& Hubbard St          & member & 0.0500000 mins & Tue & Apr & Spring\\\\\n",
       "\t 9C9D48177CF76D59 & docked\\_bike & 2020-04-12 08:40:17 & 2020-04-12 08:40:54 & Wilton Ave \\& Diversey Pkwy     & Wilton Ave \\& Diversey Pkwy     & member & 0.6166667 mins & Sun & Apr & Spring\\\\\n",
       "\t 29C794861AE2E12D & docked\\_bike & 2020-04-11 05:23:17 & 2020-04-11 05:23:23 & Sheffield Ave \\& Wellington Ave & Sheffield Ave \\& Wellington Ave & member & 0.1000000 mins & Sat & Apr & Spring\\\\\n",
       "\t DF1764DB2E9ED62B & docked\\_bike & 2020-04-23 14:45:29 & 2020-04-23 14:45:47 & Broadway \\& Cornelia Ave        & Broadway \\& Cornelia Ave        & member & 0.3000000 mins & Thu & Apr & Spring\\\\\n",
       "\t 0DFF15F9038D6B8D & docked\\_bike & 2020-04-03 15:46:08 & 2020-04-03 15:46:31 & Racine Ave \\& 18th St           & Racine Ave \\& 18th St           & member & 0.3833333 mins & Fri & Apr & Spring\\\\\n",
       "\\end{tabular}\n"
      ],
      "text/markdown": [
       "\n",
       "A data.table: 6 × 11\n",
       "\n",
       "| ride_id &lt;chr&gt; | rideable_type &lt;chr&gt; | started_at &lt;dttm&gt; | ended_at &lt;dttm&gt; | start_station_name &lt;chr&gt; | end_station_name &lt;chr&gt; | member_casual &lt;chr&gt; | ride_length &lt;drtn&gt; | day_of_week &lt;chr&gt; | month &lt;ord&gt; | season &lt;ord&gt; |\n",
       "|---|---|---|---|---|---|---|---|---|---|---|\n",
       "| EA0FBC59F73B90B6 | docked_bike | 2020-04-28 06:22:45 | 2020-04-28 06:22:48 | Cannon Dr &amp; Fullerton Ave      | Cannon Dr &amp; Fullerton Ave      | member | 0.0500000 mins | Tue | Apr | Spring |\n",
       "| 8A52587DCD27DB83 | docked_bike | 2020-04-07 06:03:39 | 2020-04-07 06:03:42 | Wells St &amp; Hubbard St          | Wells St &amp; Hubbard St          | member | 0.0500000 mins | Tue | Apr | Spring |\n",
       "| 9C9D48177CF76D59 | docked_bike | 2020-04-12 08:40:17 | 2020-04-12 08:40:54 | Wilton Ave &amp; Diversey Pkwy     | Wilton Ave &amp; Diversey Pkwy     | member | 0.6166667 mins | Sun | Apr | Spring |\n",
       "| 29C794861AE2E12D | docked_bike | 2020-04-11 05:23:17 | 2020-04-11 05:23:23 | Sheffield Ave &amp; Wellington Ave | Sheffield Ave &amp; Wellington Ave | member | 0.1000000 mins | Sat | Apr | Spring |\n",
       "| DF1764DB2E9ED62B | docked_bike | 2020-04-23 14:45:29 | 2020-04-23 14:45:47 | Broadway &amp; Cornelia Ave        | Broadway &amp; Cornelia Ave        | member | 0.3000000 mins | Thu | Apr | Spring |\n",
       "| 0DFF15F9038D6B8D | docked_bike | 2020-04-03 15:46:08 | 2020-04-03 15:46:31 | Racine Ave &amp; 18th St           | Racine Ave &amp; 18th St           | member | 0.3833333 mins | Fri | Apr | Spring |\n",
       "\n"
      ],
      "text/plain": [
       "  ride_id          rideable_type started_at          ended_at           \n",
       "1 EA0FBC59F73B90B6 docked_bike   2020-04-28 06:22:45 2020-04-28 06:22:48\n",
       "2 8A52587DCD27DB83 docked_bike   2020-04-07 06:03:39 2020-04-07 06:03:42\n",
       "3 9C9D48177CF76D59 docked_bike   2020-04-12 08:40:17 2020-04-12 08:40:54\n",
       "4 29C794861AE2E12D docked_bike   2020-04-11 05:23:17 2020-04-11 05:23:23\n",
       "5 DF1764DB2E9ED62B docked_bike   2020-04-23 14:45:29 2020-04-23 14:45:47\n",
       "6 0DFF15F9038D6B8D docked_bike   2020-04-03 15:46:08 2020-04-03 15:46:31\n",
       "  start_station_name             end_station_name               member_casual\n",
       "1 Cannon Dr & Fullerton Ave      Cannon Dr & Fullerton Ave      member       \n",
       "2 Wells St & Hubbard St          Wells St & Hubbard St          member       \n",
       "3 Wilton Ave & Diversey Pkwy     Wilton Ave & Diversey Pkwy     member       \n",
       "4 Sheffield Ave & Wellington Ave Sheffield Ave & Wellington Ave member       \n",
       "5 Broadway & Cornelia Ave        Broadway & Cornelia Ave        member       \n",
       "6 Racine Ave & 18th St           Racine Ave & 18th St           member       \n",
       "  ride_length    day_of_week month season\n",
       "1 0.0500000 mins Tue         Apr   Spring\n",
       "2 0.0500000 mins Tue         Apr   Spring\n",
       "3 0.6166667 mins Sun         Apr   Spring\n",
       "4 0.1000000 mins Sat         Apr   Spring\n",
       "5 0.3000000 mins Thu         Apr   Spring\n",
       "6 0.3833333 mins Fri         Apr   Spring"
      ]
     },
     "metadata": {},
     "output_type": "display_data"
    }
   ],
   "source": [
    "#check for cases where customers changed their mind\n",
    "change_of_mind <- subset(df3, (df3$start_station_name == df3$end_station_name) & (df3$ride_length < 1))\n",
    "head(change_of_mind)"
   ]
  },
  {
   "cell_type": "code",
   "execution_count": 20,
   "id": "90525b82",
   "metadata": {},
   "outputs": [],
   "source": [
    "#drop entries where customers changed their mind\n",
    "df4 <- df3[!(df3$start_station_name == df3$end_station_name & df3$ride_length < 1),]"
   ]
  },
  {
   "cell_type": "code",
   "execution_count": 21,
   "id": "a5afe201",
   "metadata": {},
   "outputs": [
    {
     "data": {
      "text/html": [
       "3442601"
      ],
      "text/latex": [
       "3442601"
      ],
      "text/markdown": [
       "3442601"
      ],
      "text/plain": [
       "[1] 3442601"
      ]
     },
     "metadata": {},
     "output_type": "display_data"
    }
   ],
   "source": [
    "#checking how many entries are left \n",
    "nrow(df4)"
   ]
  },
  {
   "cell_type": "code",
   "execution_count": 22,
   "id": "e0b5d5f8",
   "metadata": {
    "tags": [
     "remove-cell"
    ]
   },
   "outputs": [],
   "source": [
    "df4 <- df4[!(df4$ride_length < 0),]"
   ]
  },
  {
   "cell_type": "code",
   "execution_count": 23,
   "id": "13e095ed",
   "metadata": {
    "tags": [
     "remove-cell"
    ]
   },
   "outputs": [],
   "source": [
    "df4 <- df4[!(df4$month == \"Jan\" & df4$ride_length <= 5.3),]\n",
    "df4 <- df4[!(df4$month == \"Feb\" & df4$ride_length <= 4.8),]\n",
    "df4 <- df4[!(df4$month == \"Mar\" & df4$ride_length <= 7.4),]\n",
    "df4 <- df4[!(df4$month == \"Apr\" & df4$ride_length <= 8.7),]\n",
    "df4 <- df4[!(df4$month == \"May\" & df4$ride_length <= 8.4),]\n",
    "df4 <- df4[!(df4$month == \"Jun\" & df4$ride_length <= 7.1),]\n",
    "\n",
    "df4 <- df4[!(df4$month == \"Jul\" & df4$ride_length <= 10.1),]\n",
    "df4 <- df4[!(df4$month == \"Aug\" & df4$ride_length <= 11.4),]\n",
    "df4 <- df4[!(df4$month == \"Sep\" & df4$ride_length <= 10.0),]\n",
    "df4 <- df4[!(df4$month == \"Oct\" & df4$ride_length <= 9.5),]\n",
    "df4 <- df4[!(df4$month == \"Nov\" & df4$ride_length <= 4.0),]\n",
    "df4 <- df4[!(df4$month == \"Dec\" & df4$ride_length <= 6.2),]"
   ]
  },
  {
   "cell_type": "markdown",
   "id": "3f7ee4ab",
   "metadata": {},
   "source": [
    "#### Step 4: Some initial descriptive analysis\n",
    "Now that I have the columns I want to use for my analysis, I'll do some arithmetic summary on my data to view what the figures look like.\n",
    "I'll look at the mean, maximum and minimum ride lengths per month in the data.  Before I do this, I will convert the ride_length column to numeric type so that I can perform numeric calculations on it. "
   ]
  },
  {
   "cell_type": "code",
   "execution_count": 24,
   "id": "85b9ecc7",
   "metadata": {},
   "outputs": [],
   "source": [
    "#changing column ride_length to numeric type\n",
    "df4$ride_length <- as.numeric(df4$ride_length)"
   ]
  },
  {
   "cell_type": "code",
   "execution_count": 25,
   "id": "012af5c9",
   "metadata": {},
   "outputs": [
    {
     "data": {
      "text/html": [
       "<table class=\"dataframe\">\n",
       "<caption>A tibble: 12 × 4</caption>\n",
       "<thead>\n",
       "\t<tr><th scope=col>month</th><th scope=col>mean_ride_length</th><th scope=col>max_ride_length</th><th scope=col>min_ride_length</th></tr>\n",
       "\t<tr><th scope=col>&lt;ord&gt;</th><th scope=col>&lt;num:.1!&gt;</th><th scope=col>&lt;num:.1!&gt;</th><th scope=col>&lt;num:.1!&gt;</th></tr>\n",
       "</thead>\n",
       "<tbody>\n",
       "\t<tr><td>Jan</td><td>18.8</td><td>\u001b[4m1\u001b[24m\u001b[4m9\u001b[24m825.9</td><td> 5.3</td></tr>\n",
       "\t<tr><td>Feb</td><td>28.0</td><td>\u001b[4m3\u001b[24m\u001b[4m0\u001b[24m129.2</td><td> 4.8</td></tr>\n",
       "\t<tr><td>Mar</td><td>30.0</td><td>\u001b[4m3\u001b[24m\u001b[4m1\u001b[24m681.7</td><td> 7.4</td></tr>\n",
       "\t<tr><td>Apr</td><td>46.0</td><td>\u001b[4m5\u001b[24m\u001b[4m8\u001b[24m720.0</td><td> 8.7</td></tr>\n",
       "\t<tr><td>May</td><td>39.7</td><td>\u001b[4m2\u001b[24m\u001b[4m8\u001b[24m896.9</td><td> 8.4</td></tr>\n",
       "\t<tr><td>Jun</td><td>38.3</td><td>\u001b[4m4\u001b[24m\u001b[4m1\u001b[24m271.0</td><td> 7.1</td></tr>\n",
       "\t<tr><td>Jul</td><td>49.3</td><td>\u001b[4m4\u001b[24m\u001b[4m9\u001b[24m965.4</td><td>10.1</td></tr>\n",
       "\t<tr><td>Aug</td><td>42.5</td><td>\u001b[4m4\u001b[24m\u001b[4m0\u001b[24m846.4</td><td>11.4</td></tr>\n",
       "\t<tr><td>Sep</td><td>35.9</td><td>\u001b[4m5\u001b[24m\u001b[4m4\u001b[24m283.3</td><td>10.0</td></tr>\n",
       "\t<tr><td>Oct</td><td>29.8</td><td>\u001b[4m3\u001b[24m\u001b[4m5\u001b[24m724.4</td><td> 9.5</td></tr>\n",
       "\t<tr><td>Nov</td><td>21.9</td><td>\u001b[4m3\u001b[24m\u001b[4m5\u001b[24m934.0</td><td> 4.0</td></tr>\n",
       "\t<tr><td>Dec</td><td>20.7</td><td> \u001b[4m9\u001b[24m741.0</td><td> 6.2</td></tr>\n",
       "</tbody>\n",
       "</table>\n"
      ],
      "text/latex": [
       "A tibble: 12 × 4\n",
       "\\begin{tabular}{llll}\n",
       " month & mean\\_ride\\_length & max\\_ride\\_length & min\\_ride\\_length\\\\\n",
       " <ord> & <num:.1!> & <num:.1!> & <num:.1!>\\\\\n",
       "\\hline\n",
       "\t Jan & 18.8 & \u001b{[}4m1\u001b{[}24m\u001b{[}4m9\u001b{[}24m825.9 &  5.3\\\\\n",
       "\t Feb & 28.0 & \u001b{[}4m3\u001b{[}24m\u001b{[}4m0\u001b{[}24m129.2 &  4.8\\\\\n",
       "\t Mar & 30.0 & \u001b{[}4m3\u001b{[}24m\u001b{[}4m1\u001b{[}24m681.7 &  7.4\\\\\n",
       "\t Apr & 46.0 & \u001b{[}4m5\u001b{[}24m\u001b{[}4m8\u001b{[}24m720.0 &  8.7\\\\\n",
       "\t May & 39.7 & \u001b{[}4m2\u001b{[}24m\u001b{[}4m8\u001b{[}24m896.9 &  8.4\\\\\n",
       "\t Jun & 38.3 & \u001b{[}4m4\u001b{[}24m\u001b{[}4m1\u001b{[}24m271.0 &  7.1\\\\\n",
       "\t Jul & 49.3 & \u001b{[}4m4\u001b{[}24m\u001b{[}4m9\u001b{[}24m965.4 & 10.1\\\\\n",
       "\t Aug & 42.5 & \u001b{[}4m4\u001b{[}24m\u001b{[}4m0\u001b{[}24m846.4 & 11.4\\\\\n",
       "\t Sep & 35.9 & \u001b{[}4m5\u001b{[}24m\u001b{[}4m4\u001b{[}24m283.3 & 10.0\\\\\n",
       "\t Oct & 29.8 & \u001b{[}4m3\u001b{[}24m\u001b{[}4m5\u001b{[}24m724.4 &  9.5\\\\\n",
       "\t Nov & 21.9 & \u001b{[}4m3\u001b{[}24m\u001b{[}4m5\u001b{[}24m934.0 &  4.0\\\\\n",
       "\t Dec & 20.7 &  \u001b{[}4m9\u001b{[}24m741.0 &  6.2\\\\\n",
       "\\end{tabular}\n"
      ],
      "text/markdown": [
       "\n",
       "A tibble: 12 × 4\n",
       "\n",
       "| month &lt;ord&gt; | mean_ride_length &lt;num:.1!&gt; | max_ride_length &lt;num:.1!&gt; | min_ride_length &lt;num:.1!&gt; |\n",
       "|---|---|---|---|\n",
       "| Jan | 18.8 | \u001b[4m1\u001b[24m\u001b[4m9\u001b[24m825.9 |  5.3 |\n",
       "| Feb | 28.0 | \u001b[4m3\u001b[24m\u001b[4m0\u001b[24m129.2 |  4.8 |\n",
       "| Mar | 30.0 | \u001b[4m3\u001b[24m\u001b[4m1\u001b[24m681.7 |  7.4 |\n",
       "| Apr | 46.0 | \u001b[4m5\u001b[24m\u001b[4m8\u001b[24m720.0 |  8.7 |\n",
       "| May | 39.7 | \u001b[4m2\u001b[24m\u001b[4m8\u001b[24m896.9 |  8.4 |\n",
       "| Jun | 38.3 | \u001b[4m4\u001b[24m\u001b[4m1\u001b[24m271.0 |  7.1 |\n",
       "| Jul | 49.3 | \u001b[4m4\u001b[24m\u001b[4m9\u001b[24m965.4 | 10.1 |\n",
       "| Aug | 42.5 | \u001b[4m4\u001b[24m\u001b[4m0\u001b[24m846.4 | 11.4 |\n",
       "| Sep | 35.9 | \u001b[4m5\u001b[24m\u001b[4m4\u001b[24m283.3 | 10.0 |\n",
       "| Oct | 29.8 | \u001b[4m3\u001b[24m\u001b[4m5\u001b[24m724.4 |  9.5 |\n",
       "| Nov | 21.9 | \u001b[4m3\u001b[24m\u001b[4m5\u001b[24m934.0 |  4.0 |\n",
       "| Dec | 20.7 |  \u001b[4m9\u001b[24m741.0 |  6.2 |\n",
       "\n"
      ],
      "text/plain": [
       "   month mean_ride_length max_ride_length                       min_ride_length\n",
       "1  Jan   18.8             \\033[4m1\\033[24m\\033[4m9\\033[24m825.9  5.3           \n",
       "2  Feb   28.0             \\033[4m3\\033[24m\\033[4m0\\033[24m129.2  4.8           \n",
       "3  Mar   30.0             \\033[4m3\\033[24m\\033[4m1\\033[24m681.7  7.4           \n",
       "4  Apr   46.0             \\033[4m5\\033[24m\\033[4m8\\033[24m720.0  8.7           \n",
       "5  May   39.7             \\033[4m2\\033[24m\\033[4m8\\033[24m896.9  8.4           \n",
       "6  Jun   38.3             \\033[4m4\\033[24m\\033[4m1\\033[24m271.0  7.1           \n",
       "7  Jul   49.3             \\033[4m4\\033[24m\\033[4m9\\033[24m965.4 10.1           \n",
       "8  Aug   42.5             \\033[4m4\\033[24m\\033[4m0\\033[24m846.4 11.4           \n",
       "9  Sep   35.9             \\033[4m5\\033[24m\\033[4m4\\033[24m283.3 10.0           \n",
       "10 Oct   29.8             \\033[4m3\\033[24m\\033[4m5\\033[24m724.4  9.5           \n",
       "11 Nov   21.9             \\033[4m3\\033[24m\\033[4m5\\033[24m934.0  4.0           \n",
       "12 Dec   20.7              \\033[4m9\\033[24m741.0                 6.2           "
      ]
     },
     "metadata": {},
     "output_type": "display_data"
    }
   ],
   "source": [
    "#calculating mean, maximum and minimum ride lengths per month\n",
    "df4%>%\n",
    "  group_by(month) %>%\n",
    "    summarise(mean_ride_length = round(mean(ride_length),1),\n",
    "               max_ride_length = round(max(ride_length),1), \n",
    "               min_ride_length = round(min(ride_length),1))%>%\n",
    "                  \n",
    "      mutate(across(where(is.numeric), ~ num(., digits = 1)))"
   ]
  },
  {
   "cell_type": "markdown",
   "id": "a4a1df23",
   "metadata": {},
   "source": [
    "With the table above, I have a first summary of my data by month. This brings me to the end of my data wrangling process. I could use ggplot2 to do some visualization but I have chosen to use Tableau to visualize the data and explore it further; so I will export my merged and cleaned dataset for use in Tableau. "
   ]
  },
  {
   "cell_type": "markdown",
   "id": "7afc6d7b",
   "metadata": {},
   "source": [
    "#### Step 5: Exporting the cleaned dataset   \n",
    "To export my dataset to CSV, I use the line of code below: "
   ]
  },
  {
   "cell_type": "code",
   "execution_count": 26,
   "id": "48212ab3",
   "metadata": {
    "scrolled": true
   },
   "outputs": [
    {
     "name": "stderr",
     "output_type": "stream",
     "text": [
      "Warning message in file(file, ifelse(append, \"a\", \"w\")):\n",
      "\"cannot open file 'C:\\Users\\ETIABA CHAMBER'S\\Documents\\Data_Analytics\\My_portfolio\\Cyclistic_cleaned_csv.csv': Permission denied\"\n"
     ]
    },
    {
     "ename": "ERROR",
     "evalue": "Error in file(file, ifelse(append, \"a\", \"w\")): cannot open the connection\n",
     "output_type": "error",
     "traceback": [
      "Error in file(file, ifelse(append, \"a\", \"w\")): cannot open the connection\nTraceback:\n",
      "1. write.csv(df4, \"C:\\\\Users\\\\ETIABA CHAMBER'S\\\\Documents\\\\Data_Analytics\\\\My_portfolio\\\\Cyclistic_cleaned_csv.csv\", \n .     row.names = FALSE)",
      "2. eval.parent(Call)",
      "3. eval(expr, p)",
      "4. eval(expr, p)",
      "5. utils::write.table(df4, \"C:\\\\Users\\\\ETIABA CHAMBER'S\\\\Documents\\\\Data_Analytics\\\\My_portfolio\\\\Cyclistic_cleaned_csv.csv\", \n .     row.names = FALSE, col.names = TRUE, sep = \",\", dec = \".\", \n .     qmethod = \"double\")",
      "6. file(file, ifelse(append, \"a\", \"w\"))"
     ]
    }
   ],
   "source": [
    "write.csv(df4, \"C:\\\\Users\\\\ETIABA CHAMBER'S\\\\Documents\\\\Data_Analytics\\\\My_portfolio\\\\Cyclistic_cleaned_csv.csv\", row.names = FALSE)"
   ]
  },
  {
   "cell_type": "markdown",
   "id": "d093737a",
   "metadata": {},
   "source": [
    "I have saved my dataset as a CSV file named \"Cyclistic_cleaned_csv\". I will then import the CSV in Tableau for further analysis and visualization."
   ]
  }
 ],
 "metadata": {
  "celltoolbar": "Edit Metadata",
  "kernelspec": {
   "display_name": "R",
   "language": "R",
   "name": "ir"
  },
  "language_info": {
   "codemirror_mode": "r",
   "file_extension": ".r",
   "mimetype": "text/x-r-source",
   "name": "R",
   "pygments_lexer": "r",
   "version": "4.2.1"
  }
 },
 "nbformat": 4,
 "nbformat_minor": 5
}
